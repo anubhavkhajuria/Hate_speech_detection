{
 "cells": [
  {
   "cell_type": "code",
   "execution_count": 2,
   "metadata": {},
   "outputs": [
    {
     "name": "stdout",
     "output_type": "stream",
     "text": [
      "The autoreload extension is already loaded. To reload it, use:\n",
      "  %reload_ext autoreload\n"
     ]
    },
    {
     "name": "stderr",
     "output_type": "stream",
     "text": [
      "C:\\Users\\anubh\\AppData\\Local\\Programs\\Python\\Python310\\lib\\site-packages\\stanza\\models\\common\\beam.py:31: UserWarning: Failed to initialize NumPy: module compiled against API version 0x10 but this version of numpy is 0xf . Check the section C-API incompatibility at the Troubleshooting ImportError section at https://numpy.org/devdocs/user/troubleshooting-importerror.html#c-api-incompatibility for indications on how to solve this problem . (Triggered internally at ..\\torch\\csrc\\utils\\tensor_numpy.cpp:84.)\n",
      "  a = torch.tensor([1.])\n"
     ]
    },
    {
     "ename": "ImportError",
     "evalue": "Failed to initialize: Bad git executable.\nThe git executable must be specified in one of the following ways:\n    - be included in your $PATH\n    - be set via $GIT_PYTHON_GIT_EXECUTABLE\n    - explicitly set via git.refresh()\n\nAll git commands will error until this is rectified.\n\nThis initial warning can be silenced or aggravated in the future by setting the\n$GIT_PYTHON_REFRESH environment variable. Use one of the following values:\n    - quiet|q|silence|s|none|n|0: for no warning or exception\n    - warn|w|warning|1: for a printed warning\n    - error|e|raise|r|2: for a raised exception\n\nExample:\n    export GIT_PYTHON_REFRESH=quiet\n",
     "output_type": "error",
     "traceback": [
      "\u001b[1;31m---------------------------------------------------------------------------\u001b[0m",
      "\u001b[1;31mImportError\u001b[0m                               Traceback (most recent call last)",
      "File \u001b[1;32m~\\AppData\\Local\\Programs\\Python\\Python310\\lib\\site-packages\\git\\__init__.py:89\u001b[0m\n\u001b[0;32m     88\u001b[0m \u001b[38;5;28;01mtry\u001b[39;00m:\n\u001b[1;32m---> 89\u001b[0m     \u001b[43mrefresh\u001b[49m\u001b[43m(\u001b[49m\u001b[43m)\u001b[49m\n\u001b[0;32m     90\u001b[0m \u001b[38;5;28;01mexcept\u001b[39;00m \u001b[38;5;167;01mException\u001b[39;00m \u001b[38;5;28;01mas\u001b[39;00m exc:\n",
      "File \u001b[1;32m~\\AppData\\Local\\Programs\\Python\\Python310\\lib\\site-packages\\git\\__init__.py:76\u001b[0m, in \u001b[0;36mrefresh\u001b[1;34m(path)\u001b[0m\n\u001b[0;32m     74\u001b[0m GIT_OK \u001b[38;5;241m=\u001b[39m \u001b[38;5;28;01mFalse\u001b[39;00m\n\u001b[1;32m---> 76\u001b[0m \u001b[38;5;28;01mif\u001b[39;00m \u001b[38;5;129;01mnot\u001b[39;00m \u001b[43mGit\u001b[49m\u001b[38;5;241;43m.\u001b[39;49m\u001b[43mrefresh\u001b[49m\u001b[43m(\u001b[49m\u001b[43mpath\u001b[49m\u001b[38;5;241;43m=\u001b[39;49m\u001b[43mpath\u001b[49m\u001b[43m)\u001b[49m:\n\u001b[0;32m     77\u001b[0m     \u001b[38;5;28;01mreturn\u001b[39;00m\n",
      "File \u001b[1;32m~\\AppData\\Local\\Programs\\Python\\Python310\\lib\\site-packages\\git\\cmd.py:392\u001b[0m, in \u001b[0;36mGit.refresh\u001b[1;34m(cls, path)\u001b[0m\n\u001b[0;32m    391\u001b[0m     \u001b[38;5;28;01melse\u001b[39;00m:\n\u001b[1;32m--> 392\u001b[0m         \u001b[38;5;28;01mraise\u001b[39;00m \u001b[38;5;167;01mImportError\u001b[39;00m(err)\n\u001b[0;32m    393\u001b[0m \u001b[38;5;28;01melse\u001b[39;00m:\n",
      "\u001b[1;31mImportError\u001b[0m: Bad git executable.\nThe git executable must be specified in one of the following ways:\n    - be included in your $PATH\n    - be set via $GIT_PYTHON_GIT_EXECUTABLE\n    - explicitly set via git.refresh()\n\nAll git commands will error until this is rectified.\n\nThis initial warning can be silenced or aggravated in the future by setting the\n$GIT_PYTHON_REFRESH environment variable. Use one of the following values:\n    - quiet|q|silence|s|none|n|0: for no warning or exception\n    - warn|w|warning|1: for a printed warning\n    - error|e|raise|r|2: for a raised exception\n\nExample:\n    export GIT_PYTHON_REFRESH=quiet\n",
      "\nThe above exception was the direct cause of the following exception:\n",
      "\u001b[1;31mImportError\u001b[0m                               Traceback (most recent call last)",
      "Cell \u001b[1;32mIn[2], line 7\u001b[0m\n\u001b[0;32m      5\u001b[0m \u001b[38;5;28;01mfrom\u001b[39;00m \u001b[38;5;21;01mtqdm\u001b[39;00m \u001b[38;5;28;01mimport\u001b[39;00m tqdm,tqdm_notebook\n\u001b[0;32m      6\u001b[0m \u001b[38;5;28;01mfrom\u001b[39;00m \u001b[38;5;21;01mutils\u001b[39;00m\u001b[38;5;21;01m.\u001b[39;00m\u001b[38;5;21;01mmarking_similars\u001b[39;00m \u001b[38;5;28;01mimport\u001b[39;00m \u001b[38;5;241m*\u001b[39m\n\u001b[1;32m----> 7\u001b[0m \u001b[38;5;28;01mfrom\u001b[39;00m \u001b[38;5;21;01mutils\u001b[39;00m\u001b[38;5;21;01m.\u001b[39;00m\u001b[38;5;21;01mpreprocess\u001b[39;00m \u001b[38;5;28;01mimport\u001b[39;00m \u001b[38;5;241m*\u001b[39m\n\u001b[0;32m      8\u001b[0m \u001b[38;5;28;01mimport\u001b[39;00m \u001b[38;5;21;01mseaborn\u001b[39;00m \u001b[38;5;28;01mas\u001b[39;00m \u001b[38;5;21;01msns\u001b[39;00m\n\u001b[0;32m      9\u001b[0m \u001b[38;5;28;01mfrom\u001b[39;00m \u001b[38;5;21;01mutils\u001b[39;00m\u001b[38;5;21;01m.\u001b[39;00m\u001b[38;5;21;01mvisualisation\u001b[39;00m \u001b[38;5;28;01mimport\u001b[39;00m \u001b[38;5;241m*\u001b[39m\n",
      "File \u001b[1;32m~\\Desktop\\jupyter notebook\\Fear-speech-analysis-master\\utils\\preprocess.py:16\u001b[0m\n\u001b[0;32m     14\u001b[0m \u001b[38;5;28;01mfrom\u001b[39;00m \u001b[38;5;21;01mnltk\u001b[39;00m\u001b[38;5;21;01m.\u001b[39;00m\u001b[38;5;21;01mtokenize\u001b[39;00m \u001b[38;5;28;01mimport\u001b[39;00m TweetTokenizer\n\u001b[0;32m     15\u001b[0m \u001b[38;5;28;01mfrom\u001b[39;00m \u001b[38;5;21;01mnltk\u001b[39;00m\u001b[38;5;21;01m.\u001b[39;00m\u001b[38;5;21;01mtokenize\u001b[39;00m \u001b[38;5;28;01mimport\u001b[39;00m sent_tokenize\n\u001b[1;32m---> 16\u001b[0m \u001b[38;5;28;01mfrom\u001b[39;00m \u001b[38;5;21;01mcltk\u001b[39;00m\u001b[38;5;21;01m.\u001b[39;00m\u001b[38;5;21;01mtokenize\u001b[39;00m\u001b[38;5;21;01m.\u001b[39;00m\u001b[38;5;21;01msentence\u001b[39;00m \u001b[38;5;28;01mimport\u001b[39;00m TokenizeSentence\n\u001b[0;32m     17\u001b[0m \u001b[38;5;28;01mimport\u001b[39;00m \u001b[38;5;21;01mre\u001b[39;00m\n\u001b[0;32m     18\u001b[0m \u001b[38;5;28;01mimport\u001b[39;00m \u001b[38;5;21;01memoji\u001b[39;00m\n",
      "File \u001b[1;32m~\\AppData\\Local\\Programs\\Python\\Python310\\lib\\site-packages\\cltk\\__init__.py:5\u001b[0m\n\u001b[0;32m      1\u001b[0m \u001b[38;5;124;03m\"\"\"Init module for importing the CLTK class.\"\"\"\u001b[39;00m\n\u001b[0;32m      3\u001b[0m \u001b[38;5;28;01mimport\u001b[39;00m \u001b[38;5;21;01mpkg_resources\u001b[39;00m\n\u001b[1;32m----> 5\u001b[0m \u001b[38;5;28;01mfrom\u001b[39;00m \u001b[38;5;21;01m.\u001b[39;00m\u001b[38;5;21;01mnlp\u001b[39;00m \u001b[38;5;28;01mimport\u001b[39;00m NLP\n\u001b[0;32m      7\u001b[0m __version__ \u001b[38;5;241m=\u001b[39m curr_version \u001b[38;5;241m=\u001b[39m pkg_resources\u001b[38;5;241m.\u001b[39mget_distribution(\n\u001b[0;32m      8\u001b[0m     \u001b[38;5;124m\"\u001b[39m\u001b[38;5;124mcltk\u001b[39m\u001b[38;5;124m\"\u001b[39m\n\u001b[0;32m      9\u001b[0m )  \u001b[38;5;66;03m# type: pkg_resources.EggInfoDistribution\u001b[39;00m\n",
      "File \u001b[1;32m~\\AppData\\Local\\Programs\\Python\\Python310\\lib\\site-packages\\cltk\\nlp.py:9\u001b[0m\n\u001b[0;32m      7\u001b[0m \u001b[38;5;28;01mfrom\u001b[39;00m \u001b[38;5;21;01mcltk\u001b[39;00m\u001b[38;5;21;01m.\u001b[39;00m\u001b[38;5;21;01mcore\u001b[39;00m\u001b[38;5;21;01m.\u001b[39;00m\u001b[38;5;21;01mdata_types\u001b[39;00m \u001b[38;5;28;01mimport\u001b[39;00m Doc, Language, Pipeline, Process\n\u001b[0;32m      8\u001b[0m \u001b[38;5;28;01mfrom\u001b[39;00m \u001b[38;5;21;01mcltk\u001b[39;00m\u001b[38;5;21;01m.\u001b[39;00m\u001b[38;5;21;01mcore\u001b[39;00m\u001b[38;5;21;01m.\u001b[39;00m\u001b[38;5;21;01mexceptions\u001b[39;00m \u001b[38;5;28;01mimport\u001b[39;00m UnimplementedAlgorithmError\n\u001b[1;32m----> 9\u001b[0m \u001b[38;5;28;01mfrom\u001b[39;00m \u001b[38;5;21;01mcltk\u001b[39;00m\u001b[38;5;21;01m.\u001b[39;00m\u001b[38;5;21;01mlanguages\u001b[39;00m\u001b[38;5;21;01m.\u001b[39;00m\u001b[38;5;21;01mpipelines\u001b[39;00m \u001b[38;5;28;01mimport\u001b[39;00m (\n\u001b[0;32m     10\u001b[0m     AkkadianPipeline,\n\u001b[0;32m     11\u001b[0m     ArabicPipeline,\n\u001b[0;32m     12\u001b[0m     AramaicPipeline,\n\u001b[0;32m     13\u001b[0m     ChinesePipeline,\n\u001b[0;32m     14\u001b[0m     CopticPipeline,\n\u001b[0;32m     15\u001b[0m     GothicPipeline,\n\u001b[0;32m     16\u001b[0m     GreekPipeline,\n\u001b[0;32m     17\u001b[0m     HindiPipeline,\n\u001b[0;32m     18\u001b[0m     LatinPipeline,\n\u001b[0;32m     19\u001b[0m     MiddleEnglishPipeline,\n\u001b[0;32m     20\u001b[0m     MiddleFrenchPipeline,\n\u001b[0;32m     21\u001b[0m     MiddleHighGermanPipeline,\n\u001b[0;32m     22\u001b[0m     OCSPipeline,\n\u001b[0;32m     23\u001b[0m     OldEnglishPipeline,\n\u001b[0;32m     24\u001b[0m     OldFrenchPipeline,\n\u001b[0;32m     25\u001b[0m     OldNorsePipeline,\n\u001b[0;32m     26\u001b[0m     PaliPipeline,\n\u001b[0;32m     27\u001b[0m     PanjabiPipeline,\n\u001b[0;32m     28\u001b[0m     SanskritPipeline,\n\u001b[0;32m     29\u001b[0m )\n\u001b[0;32m     30\u001b[0m \u001b[38;5;28;01mfrom\u001b[39;00m \u001b[38;5;21;01mcltk\u001b[39;00m\u001b[38;5;21;01m.\u001b[39;00m\u001b[38;5;21;01mlanguages\u001b[39;00m\u001b[38;5;21;01m.\u001b[39;00m\u001b[38;5;21;01mutils\u001b[39;00m \u001b[38;5;28;01mimport\u001b[39;00m get_lang\n\u001b[0;32m     32\u001b[0m iso_to_pipeline \u001b[38;5;241m=\u001b[39m {\n\u001b[0;32m     33\u001b[0m     \u001b[38;5;124m\"\u001b[39m\u001b[38;5;124makk\u001b[39m\u001b[38;5;124m\"\u001b[39m: AkkadianPipeline,\n\u001b[0;32m     34\u001b[0m     \u001b[38;5;124m\"\u001b[39m\u001b[38;5;124mang\u001b[39m\u001b[38;5;124m\"\u001b[39m: OldEnglishPipeline,\n\u001b[1;32m   (...)\u001b[0m\n\u001b[0;32m     51\u001b[0m     \u001b[38;5;124m\"\u001b[39m\u001b[38;5;124msan\u001b[39m\u001b[38;5;124m\"\u001b[39m: SanskritPipeline,\n\u001b[0;32m     52\u001b[0m }\n",
      "File \u001b[1;32m~\\AppData\\Local\\Programs\\Python\\Python310\\lib\\site-packages\\cltk\\languages\\pipelines.py:23\u001b[0m\n\u001b[0;32m     13\u001b[0m \u001b[38;5;28;01mfrom\u001b[39;00m \u001b[38;5;21;01mcltk\u001b[39;00m\u001b[38;5;21;01m.\u001b[39;00m\u001b[38;5;21;01mcore\u001b[39;00m\u001b[38;5;21;01m.\u001b[39;00m\u001b[38;5;21;01mdata_types\u001b[39;00m \u001b[38;5;28;01mimport\u001b[39;00m Language, Pipeline, Process\n\u001b[0;32m     14\u001b[0m \u001b[38;5;28;01mfrom\u001b[39;00m \u001b[38;5;21;01mcltk\u001b[39;00m\u001b[38;5;21;01m.\u001b[39;00m\u001b[38;5;21;01mdependency\u001b[39;00m\u001b[38;5;21;01m.\u001b[39;00m\u001b[38;5;21;01mprocesses\u001b[39;00m \u001b[38;5;28;01mimport\u001b[39;00m (\n\u001b[0;32m     15\u001b[0m     ChineseStanzaProcess,\n\u001b[0;32m     16\u001b[0m     CopticStanzaProcess,\n\u001b[1;32m   (...)\u001b[0m\n\u001b[0;32m     21\u001b[0m     OldFrenchStanzaProcess,\n\u001b[0;32m     22\u001b[0m )\n\u001b[1;32m---> 23\u001b[0m \u001b[38;5;28;01mfrom\u001b[39;00m \u001b[38;5;21;01mcltk\u001b[39;00m\u001b[38;5;21;01m.\u001b[39;00m\u001b[38;5;21;01membeddings\u001b[39;00m\u001b[38;5;21;01m.\u001b[39;00m\u001b[38;5;21;01mprocesses\u001b[39;00m \u001b[38;5;28;01mimport\u001b[39;00m (\n\u001b[0;32m     24\u001b[0m     ArabicEmbeddingsProcess,\n\u001b[0;32m     25\u001b[0m     AramaicEmbeddingsProcess,\n\u001b[0;32m     26\u001b[0m     GothicEmbeddingsProcess,\n\u001b[0;32m     27\u001b[0m     GreekEmbeddingsProcess,\n\u001b[0;32m     28\u001b[0m     LatinEmbeddingsProcess,\n\u001b[0;32m     29\u001b[0m     MiddleEnglishEmbeddingsProcess,\n\u001b[0;32m     30\u001b[0m     OldEnglishEmbeddingsProcess,\n\u001b[0;32m     31\u001b[0m     PaliEmbeddingsProcess,\n\u001b[0;32m     32\u001b[0m     SanskritEmbeddingsProcess,\n\u001b[0;32m     33\u001b[0m )\n\u001b[0;32m     34\u001b[0m \u001b[38;5;28;01mfrom\u001b[39;00m \u001b[38;5;21;01mcltk\u001b[39;00m\u001b[38;5;21;01m.\u001b[39;00m\u001b[38;5;21;01mlanguages\u001b[39;00m\u001b[38;5;21;01m.\u001b[39;00m\u001b[38;5;21;01mutils\u001b[39;00m \u001b[38;5;28;01mimport\u001b[39;00m get_lang\n\u001b[0;32m     35\u001b[0m \u001b[38;5;28;01mfrom\u001b[39;00m \u001b[38;5;21;01mcltk\u001b[39;00m\u001b[38;5;21;01m.\u001b[39;00m\u001b[38;5;21;01mlemmatize\u001b[39;00m\u001b[38;5;21;01m.\u001b[39;00m\u001b[38;5;21;01mprocesses\u001b[39;00m \u001b[38;5;28;01mimport\u001b[39;00m (\n\u001b[0;32m     36\u001b[0m     GreekLemmatizationProcess,\n\u001b[0;32m     37\u001b[0m     LatinLemmatizationProcess,\n\u001b[0;32m     38\u001b[0m     OldEnglishLemmatizationProcess,\n\u001b[0;32m     39\u001b[0m     OldFrenchLemmatizationProcess,\n\u001b[0;32m     40\u001b[0m )\n",
      "File \u001b[1;32m~\\AppData\\Local\\Programs\\Python\\Python310\\lib\\site-packages\\cltk\\embeddings\\__init__.py:3\u001b[0m\n\u001b[0;32m      1\u001b[0m \u001b[38;5;124;03m\"\"\"Init for ``cltk.embeddings``.\"\"\"\u001b[39;00m\n\u001b[1;32m----> 3\u001b[0m \u001b[38;5;28;01mfrom\u001b[39;00m \u001b[38;5;21;01m.\u001b[39;00m\u001b[38;5;21;01membeddings\u001b[39;00m \u001b[38;5;28;01mimport\u001b[39;00m \u001b[38;5;241m*\u001b[39m\n\u001b[0;32m      4\u001b[0m \u001b[38;5;28;01mfrom\u001b[39;00m \u001b[38;5;21;01m.\u001b[39;00m\u001b[38;5;21;01mprocesses\u001b[39;00m \u001b[38;5;28;01mimport\u001b[39;00m \u001b[38;5;241m*\u001b[39m\n",
      "File \u001b[1;32m~\\AppData\\Local\\Programs\\Python\\Python310\\lib\\site-packages\\cltk\\embeddings\\embeddings.py:30\u001b[0m\n\u001b[0;32m     27\u001b[0m \u001b[38;5;28;01mfrom\u001b[39;00m \u001b[38;5;21;01mgensim\u001b[39;00m \u001b[38;5;28;01mimport\u001b[39;00m models  \u001b[38;5;66;03m# type: ignore\u001b[39;00m\n\u001b[0;32m     29\u001b[0m \u001b[38;5;28;01mfrom\u001b[39;00m \u001b[38;5;21;01mcltk\u001b[39;00m\u001b[38;5;21;01m.\u001b[39;00m\u001b[38;5;21;01mcore\u001b[39;00m\u001b[38;5;21;01m.\u001b[39;00m\u001b[38;5;21;01mexceptions\u001b[39;00m \u001b[38;5;28;01mimport\u001b[39;00m CLTKException, UnimplementedAlgorithmError\n\u001b[1;32m---> 30\u001b[0m \u001b[38;5;28;01mfrom\u001b[39;00m \u001b[38;5;21;01mcltk\u001b[39;00m\u001b[38;5;21;01m.\u001b[39;00m\u001b[38;5;21;01mdata\u001b[39;00m\u001b[38;5;21;01m.\u001b[39;00m\u001b[38;5;21;01mfetch\u001b[39;00m \u001b[38;5;28;01mimport\u001b[39;00m FetchCorpus\n\u001b[0;32m     31\u001b[0m \u001b[38;5;28;01mfrom\u001b[39;00m \u001b[38;5;21;01mcltk\u001b[39;00m\u001b[38;5;21;01m.\u001b[39;00m\u001b[38;5;21;01mlanguages\u001b[39;00m\u001b[38;5;21;01m.\u001b[39;00m\u001b[38;5;21;01mutils\u001b[39;00m \u001b[38;5;28;01mimport\u001b[39;00m get_lang\n\u001b[0;32m     32\u001b[0m \u001b[38;5;28;01mfrom\u001b[39;00m \u001b[38;5;21;01mcltk\u001b[39;00m\u001b[38;5;21;01m.\u001b[39;00m\u001b[38;5;21;01mutils\u001b[39;00m \u001b[38;5;28;01mimport\u001b[39;00m CLTK_DATA_DIR, get_file_with_progress_bar, query_yes_no\n",
      "File \u001b[1;32m~\\AppData\\Local\\Programs\\Python\\Python310\\lib\\site-packages\\cltk\\data\\fetch.py:14\u001b[0m\n\u001b[0;32m     11\u001b[0m \u001b[38;5;28;01mfrom\u001b[39;00m \u001b[38;5;21;01murllib\u001b[39;00m\u001b[38;5;21;01m.\u001b[39;00m\u001b[38;5;21;01mparse\u001b[39;00m \u001b[38;5;28;01mimport\u001b[39;00m urljoin\n\u001b[0;32m     13\u001b[0m \u001b[38;5;28;01mimport\u001b[39;00m \u001b[38;5;21;01myaml\u001b[39;00m\n\u001b[1;32m---> 14\u001b[0m \u001b[38;5;28;01mfrom\u001b[39;00m \u001b[38;5;21;01mgit\u001b[39;00m \u001b[38;5;28;01mimport\u001b[39;00m RemoteProgress, Repo\n\u001b[0;32m     16\u001b[0m \u001b[38;5;28;01mfrom\u001b[39;00m \u001b[38;5;21;01mcltk\u001b[39;00m\u001b[38;5;21;01m.\u001b[39;00m\u001b[38;5;21;01mcore\u001b[39;00m\u001b[38;5;21;01m.\u001b[39;00m\u001b[38;5;21;01mcltk_logger\u001b[39;00m \u001b[38;5;28;01mimport\u001b[39;00m logger\n\u001b[0;32m     17\u001b[0m \u001b[38;5;28;01mfrom\u001b[39;00m \u001b[38;5;21;01mcltk\u001b[39;00m\u001b[38;5;21;01m.\u001b[39;00m\u001b[38;5;21;01mcore\u001b[39;00m\u001b[38;5;21;01m.\u001b[39;00m\u001b[38;5;21;01mexceptions\u001b[39;00m \u001b[38;5;28;01mimport\u001b[39;00m CorpusImportError\n",
      "File \u001b[1;32m~\\AppData\\Local\\Programs\\Python\\Python310\\lib\\site-packages\\git\\__init__.py:91\u001b[0m\n\u001b[0;32m     89\u001b[0m     refresh()\n\u001b[0;32m     90\u001b[0m \u001b[38;5;28;01mexcept\u001b[39;00m \u001b[38;5;167;01mException\u001b[39;00m \u001b[38;5;28;01mas\u001b[39;00m exc:\n\u001b[1;32m---> 91\u001b[0m     \u001b[38;5;28;01mraise\u001b[39;00m \u001b[38;5;167;01mImportError\u001b[39;00m(\u001b[38;5;124m\"\u001b[39m\u001b[38;5;124mFailed to initialize: \u001b[39m\u001b[38;5;132;01m{0}\u001b[39;00m\u001b[38;5;124m\"\u001b[39m\u001b[38;5;241m.\u001b[39mformat(exc)) \u001b[38;5;28;01mfrom\u001b[39;00m \u001b[38;5;21;01mexc\u001b[39;00m\n\u001b[0;32m     92\u001b[0m \u001b[38;5;66;03m#################\u001b[39;00m\n",
      "\u001b[1;31mImportError\u001b[0m: Failed to initialize: Bad git executable.\nThe git executable must be specified in one of the following ways:\n    - be included in your $PATH\n    - be set via $GIT_PYTHON_GIT_EXECUTABLE\n    - explicitly set via git.refresh()\n\nAll git commands will error until this is rectified.\n\nThis initial warning can be silenced or aggravated in the future by setting the\n$GIT_PYTHON_REFRESH environment variable. Use one of the following values:\n    - quiet|q|silence|s|none|n|0: for no warning or exception\n    - warn|w|warning|1: for a printed warning\n    - error|e|raise|r|2: for a raised exception\n\nExample:\n    export GIT_PYTHON_REFRESH=quiet\n"
     ]
    }
   ],
   "source": [
    "%load_ext autoreload\n",
    "%autoreload 2\n",
    "import parmap\n",
    "import pandas as pd\n",
    "from tqdm import tqdm,tqdm_notebook\n",
    "from utils.marking_similars import *\n",
    "from utils.preprocess import *\n",
    "import seaborn as sns\n",
    "from utils.visualisation import *\n",
    "import matplotlib.pyplot as plt\n",
    "from numpy.random import seed\n",
    "from numpy.random import randn\n",
    "from scipy.stats import mannwhitneyu"
   ]
  },
  {
   "cell_type": "code",
   "execution_count": null,
   "metadata": {},
   "outputs": [],
   "source": [
    "import matplotlib\n",
    "def convert(year,month,date):\n",
    "    return int(datetime(year, month, date, 0, 0, 0).timestamp()*1000)\n",
    "\n",
    "def convert_reverse(timestamp):\n",
    "    dt_object = datetime.fromtimestamp(timestamp/1000)\n",
    "    #print(\"dt_object =\", dt_object)\n",
    "    return dt_object\n"
   ]
  },
  {
   "cell_type": "code",
   "execution_count": 5,
   "metadata": {},
   "outputs": [],
   "source": [
    "parent_path='Data/'"
   ]
  },
  {
   "cell_type": "code",
   "execution_count": 6,
   "metadata": {},
   "outputs": [],
   "source": [
    "import json\n",
    "with open(parent_path+'fear_speech_data.json', 'r') as fp:\n",
    "    fear_speech_data=json.load(fp)"
   ]
  },
  {
   "cell_type": "code",
   "execution_count": 8,
   "metadata": {},
   "outputs": [
    {
     "data": {
      "text/plain": [
       "{'message_text': '*प्रशासक समिति*✊🚩  ●●●●●●●●●●● ● ● ● 😎🚩 *आंतकवादी संगठनों का💣🔪 इस्लामिक नाम और उनका इस्लाम.....* *धर्म से जुड़ा हुआ अर्थ...* 🐖🐖🐖 *1.लश्करे तैयबा-फरिश्तो की सेना* *2.अल कायदा-अल्लाह का कायदा...* *3.जेश ए मोहम्द-मोहम्मद साहेब का दल...* *4.तहरिक ए तालिबान-पवित्र योद्धाओ का दल...* *5.हिजबुल मुजादिन-इस्लामी बलिदानियो का समूह...* *6.बोको हराम -पैगम्बर मुहम्मद की शिक्षा को फैलाने के लिए प्रतिबद्ध..* *सभी मुस्लमान अज्ञानि अल्लाह की बताई हुई रूहानी किताब क़ुरआन की बताई राह* *(पूरी दुनिया को इस्लाम बनाना)पर ही चल रहे है कोई ज्यादा बच👨\\u200d👨\\u200d👦* *पैदा करके तो कोई लव जिहाद👫 करके तो कोई काफ़िर(गेर मुसलमान)को मारकर..* *धरती पर आंतक🔫💣💣💣🔫फेला रहे है\\ufeff।।* 😡😡😡😎😡😡😡  *जय सनातन धर्म की*🚩🚩🚩  🙏🚩🇮🇳🔱🏹🐚🕉',\n",
       " 'annotation_list': ['Fear speech', 'Fear speech', 'Normal'],\n",
       " 'propagation': [{'group_id': 9087,\n",
       "   'user_id': 229869,\n",
       "   'timestamp': 1538130086000},\n",
       "  {'group_id': 7, 'user_id': 215, 'timestamp': 1550186113000}]}"
      ]
     },
     "execution_count": 8,
     "metadata": {},
     "output_type": "execute_result"
    }
   ],
   "source": [
    "fear_speech_data['0']"
   ]
  },
  {
   "cell_type": "code",
   "execution_count": 29,
   "metadata": {},
   "outputs": [],
   "source": [
    "repeat_tuples=[]\n",
    "for key in fear_speech_data.keys():\n",
    "    element = fear_speech_data[key]\n",
    "    \n",
    "    count_fearspeech=element['annotation_list'].count('Fear speech')\n",
    "    count_normal=element['annotation_list'].count('Normal')\n",
    "    \n",
    "    if(count_fearspeech>count_normal):\n",
    "        one_fear_speech=1\n",
    "    else:\n",
    "        one_fear_speech=0\n",
    "    \n",
    "    try:\n",
    "        #### timestamps\n",
    "        time_stamp_list = []\n",
    "        for ele in element['propagation']:\n",
    "            time_stamp_list.append(ele['timestamp'])\n",
    "        time_stamp_list.sort()\n",
    "\n",
    "        ##starting date\n",
    "        timestamp=time_stamp_list[0]\n",
    "        date=convert_reverse(timestamp)\n",
    "\n",
    "        if(date.year==2019 and date.month>5):\n",
    "            observed=0\n",
    "        else:\n",
    "            observed=1\n",
    "\n",
    "\n",
    "        if(one_fear_speech==1):\n",
    "            repeat_tuples.append([timestamp,observed,len(element['propagation']),'Fear speech'])\n",
    "        else:\n",
    "            repeat_tuples.append([timestamp,observed,len(element['propagation']),'Non Fear speech'])\n",
    "    except:\n",
    "        pass"
   ]
  },
  {
   "cell_type": "code",
   "execution_count": 30,
   "metadata": {},
   "outputs": [],
   "source": [
    "df_repeat=pd.DataFrame(repeat_tuples,columns=['timestamp','observed','num_repeats','label'])\n"
   ]
  },
  {
   "cell_type": "code",
   "execution_count": 34,
   "metadata": {},
   "outputs": [
    {
     "name": "stdout",
     "output_type": "stream",
     "text": [
      "Statistics=1697844.000, p=0.00062\n",
      "Different distribution (reject H0)\n"
     ]
    }
   ],
   "source": [
    "# generate two independent samples\n",
    "# compare samples\n",
    "stat, p = mannwhitneyu(df_repeat[df_repeat['label']=='Fear speech'].num_repeats, df_repeat[df_repeat['label']=='Non Fear speech'].num_repeats)\n",
    "print('Statistics=%.3f, p=%.5f' % (stat, p))\n",
    "# interpret\n",
    "alpha = 0.05\n",
    "if p > alpha:\n",
    "\tprint('Same distribution (fail to reject H0)')\n",
    "else:\n",
    "\tprint('Different distribution (reject H0)')"
   ]
  },
  {
   "cell_type": "code",
   "execution_count": 35,
   "metadata": {},
   "outputs": [
    {
     "data": {
      "image/png": "[encoded data removed]",
      "text/plain": [
       "<Figure size 360x360 with 1 Axes>"
      ]
     },
     "metadata": {},
     "output_type": "display_data"
    }
   ],
   "source": [
    "matplotlib.rcParams['figure.figsize'] = (5, 5)\n",
    "\n",
    "#     'weight' : 'normal',\n",
    "#     'size'   : 15}\n",
    "# matplotlib.rc('font', **font)\n",
    "#data_timeline.plot()\n",
    "sns.set(context='paper',style='white',font_scale=1.5)\n",
    "\n",
    "font = {\n",
    "    'weight' : 'normal',\n",
    "    'size'   : 11}\n",
    "ax = sns.barplot(x=\"label\", y=\"num_repeats\", data=df_repeat)\n",
    "#g=add_values(g,df_admin,15,order_list)\n",
    "plt.savefig('../Fear_speech_results/number_of_repeats.pdf',bbox_inches='tight',dpi=400)"
   ]
  },
  {
   "cell_type": "code",
   "execution_count": 37,
   "metadata": {},
   "outputs": [],
   "source": [
    "num_groups_affected=[]\n",
    "for key in fear_speech_data.keys():\n",
    "    element = fear_speech_data[key]\n",
    "    \n",
    "    count_fearspeech=element['annotation_list'].count('Fear speech')\n",
    "    count_normal=element['annotation_list'].count('Normal')\n",
    "    \n",
    "    if(count_fearspeech>count_normal):\n",
    "        one_fear_speech=1\n",
    "    else:\n",
    "        one_fear_speech=0\n",
    "    \n",
    "    group_list = []\n",
    "    for ele in element['propagation']:\n",
    "            group_list.append(ele['group_id'])\n",
    "\n",
    "    \n",
    "    \n",
    "    \n",
    "    if(one_fear_speech==1):\n",
    "        num_groups_affected.append([len(set(group_list)),'Fear speech'])\n",
    "    else:\n",
    "        num_groups_affected.append([len(set(group_list)),'Non Fear speech'])\n"
   ]
  },
  {
   "cell_type": "code",
   "execution_count": 39,
   "metadata": {},
   "outputs": [
    {
     "name": "stdout",
     "output_type": "stream",
     "text": [
      "Statistics=1921507.000, p=0.0000265482\n",
      "Different distribution (reject H0)\n"
     ]
    }
   ],
   "source": [
    "df_num_groups=pd.DataFrame(num_groups_affected,columns=['groups_affected','label'])\n",
    "\n",
    "# generate two independent samples\n",
    "# compare samples\n",
    "stat, p = mannwhitneyu(df_num_groups[df_num_groups['label']=='Fear speech'].groups_affected, df_num_groups[df_num_groups['label']=='Non Fear speech'].groups_affected)\n",
    "print('Statistics=%.3f, p=%.10f' % (stat, p))\n",
    "# interpret\n",
    "alpha = 0.05\n",
    "if p > alpha:\n",
    "\tprint('Same distribution (fail to reject H0)')\n",
    "else:\n",
    "\tprint('Different distribution (reject H0)')"
   ]
  },
  {
   "cell_type": "code",
   "execution_count": 40,
   "metadata": {},
   "outputs": [
    {
     "data": {
      "image/png": "[encoded data removed]",
      "text/plain": [
       "<Figure size 360x360 with 1 Axes>"
      ]
     },
     "metadata": {},
     "output_type": "display_data"
    }
   ],
   "source": [
    "matplotlib.rcParams['figure.figsize'] = (5, 5)\n",
    "\n",
    "#     'weight' : 'normal',\n",
    "#     'size'   : 15}\n",
    "# matplotlib.rc('font', **font)\n",
    "#data_timeline.plot()\n",
    "sns.set(context='paper',style='white',font_scale=1.5)\n",
    "\n",
    "font = {\n",
    "    'weight' : 'normal',\n",
    "    'size'   : 11}\n",
    "ax1 = sns.barplot(x=\"label\", y=\"groups_affected\", data=df_num_groups)#g=add_values(g,df_admin,15,order_list)\n",
    "plt.savefig('../Fear_speech_results/groups_affected.pdf',bbox_inches='tight',dpi=400)\n"
   ]
  },
  {
   "cell_type": "code",
   "execution_count": 75,
   "metadata": {},
   "outputs": [],
   "source": [
    "num_spreader=[]\n",
    "for key in fear_speech_data.keys():    \n",
    "    element = fear_speech_data[key]\n",
    "    count_fearspeech=element['annotation_list'].count('Fear speech')\n",
    "    count_normal=element['annotation_list'].count('Normal')\n",
    "    \n",
    "    if(count_fearspeech>count_normal):\n",
    "        one_fear_speech=1\n",
    "    else:\n",
    "        one_fear_speech=0\n",
    "    \n",
    "    timestamp_list = []\n",
    "    for ele in element['propagation']:\n",
    "            timestamp_list.append(ele['timestamp'])\n",
    "    \n",
    "    \n",
    "    try:\n",
    "        days_active = (timestamp_list[-1] - timestamp_list[0])/(24*60*60*1000)\n",
    "        \n",
    "    except:\n",
    "        days_active = 0\n",
    "    \n",
    "    if(one_fear_speech==1):\n",
    "        num_spreader.append([days_active,'Fear speech'])\n",
    "    else:\n",
    "        num_spreader.append([days_active,'Non Fear speech'])\n"
   ]
  },
  {
   "cell_type": "code",
   "execution_count": 76,
   "metadata": {},
   "outputs": [
    {
     "name": "stdout",
     "output_type": "stream",
     "text": [
      "Statistics=1896897.000, p=0.0000009504\n",
      "Different distribution (reject H0)\n"
     ]
    }
   ],
   "source": [
    "df_active=pd.DataFrame(num_spreader,columns=['days_active','label'])\n",
    "\n",
    "\n",
    "# generate two independent samples\n",
    "# compare samples\n",
    "stat, p = mannwhitneyu(df_active[df_active['label']=='Fear speech'].days_active, df_active[df_active['label']=='Non Fear speech'].days_active)\n",
    "print('Statistics=%.3f, p=%.10f' % (stat, p))\n",
    "# interpret\n",
    "alpha = 0.05\n",
    "if p > alpha:\n",
    "\tprint('Same distribution (fail to reject H0)')\n",
    "else:\n",
    "\tprint('Different distribution (reject H0)')"
   ]
  },
  {
   "cell_type": "code",
   "execution_count": 79,
   "metadata": {},
   "outputs": [
    {
     "data": {
      "image/png": "[encoded data removed]",
      "text/plain": [
       "<Figure size 360x360 with 1 Axes>"
      ]
     },
     "metadata": {},
     "output_type": "display_data"
    }
   ],
   "source": [
    "matplotlib.rcParams['figure.figsize'] = (5, 5)\n",
    "\n",
    "#     'weight' : 'normal',\n",
    "#     'size'   : 15}\n",
    "# matplotlib.rc('font', **font)\n",
    "#data_timeline.plot()\n",
    "sns.set(context='paper',style='white',font_scale=1.5)\n",
    "\n",
    "font = {\n",
    "    'weight' : 'normal',\n",
    "    'size'   : 11}\n",
    "ax1 = sns.barplot(x=\"label\", y=\"days_active\", data=df_active)\n",
    "plt.savefig('../Fear_speech_results/number_of_days_active.pdf',bbox_inches='tight',dpi=400)"
   ]
  },
  {
   "cell_type": "code",
   "execution_count": 80,
   "metadata": {},
   "outputs": [],
   "source": [
    "num_spreader=[]\n",
    "for key in fear_speech_data.keys():\n",
    "    element = fear_speech_data[key]\n",
    "    count_fearspeech=element['annotation_list'].count('Fear speech')\n",
    "    count_normal=element['annotation_list'].count('Normal')\n",
    "    \n",
    "    if(count_fearspeech>count_normal):\n",
    "        one_fear_speech=1\n",
    "    else:\n",
    "        one_fear_speech=0\n",
    "    \n",
    "    user_list = []\n",
    "    for ele in element['propagation']:\n",
    "            user_list.append(ele['user_id'])\n",
    "  \n",
    "    if(one_fear_speech==1):\n",
    "        num_spreader.append([len(set(user_list)),'Fear speech'])\n",
    "    else:\n",
    "        num_spreader.append([len(set(user_list)),'Non Fear speech'])\n",
    "\n",
    "\n",
    "\n",
    "    "
   ]
  },
  {
   "cell_type": "code",
   "execution_count": 81,
   "metadata": {},
   "outputs": [
    {
     "name": "stdout",
     "output_type": "stream",
     "text": [
      "Statistics=1874754.500, p=0.0000000412\n",
      "Different distribution (reject H0)\n"
     ]
    }
   ],
   "source": [
    "df_num_users=pd.DataFrame(num_spreader,columns=['users_who_spread','label'])\n",
    "\n",
    "# generate two independent samples\n",
    "# compare samples\n",
    "stat, p = mannwhitneyu(df_num_users[df_num_users['label']=='Fear speech'].users_who_spread, df_num_users[df_num_users['label']=='Non Fear speech'].users_who_spread)\n",
    "print('Statistics=%.3f, p=%.10f' % (stat, p))\n",
    "# interpret\n",
    "alpha = 0.05\n",
    "if p > alpha:\n",
    "\tprint('Same distribution (fail to reject H0)')\n",
    "else:\n",
    "\tprint('Different distribution (reject H0)')\n",
    "    \n",
    "    "
   ]
  },
  {
   "cell_type": "code",
   "execution_count": 82,
   "metadata": {},
   "outputs": [
    {
     "data": {
      "image/png": "[encoded data removed]",
      "text/plain": [
       "<Figure size 360x360 with 1 Axes>"
      ]
     },
     "metadata": {},
     "output_type": "display_data"
    }
   ],
   "source": [
    "matplotlib.rcParams['figure.figsize'] = (5, 5)\n",
    "\n",
    "#     'weight' : 'normal',\n",
    "#     'size'   : 15}\n",
    "# matplotlib.rc('font', **font)\n",
    "#data_timeline.plot()\n",
    "sns.set(context='paper',style='white',font_scale=1.5)\n",
    "\n",
    "font = {\n",
    "    'weight' : 'normal',\n",
    "    'size'   : 11}\n",
    "ax1 = sns.barplot(x=\"label\", y=\"users_who_spread\", data=df_num_users)\n",
    "plt.savefig('../Fear_speech_results/users_who_spread.pdf',bbox_inches='tight',dpi=400)\n",
    "\n",
    "\n",
    "\n"
   ]
  },
  {
   "cell_type": "code",
   "execution_count": 83,
   "metadata": {},
   "outputs": [
    {
     "data": {
      "image/png": "[encoded data removed]",
      "text/plain": [
       "<Figure size 720x432 with 4 Axes>"
      ]
     },
     "metadata": {},
     "output_type": "display_data"
    }
   ],
   "source": [
    "from matplotlib.lines import Line2D\n",
    "from  matplotlib.ticker import FuncFormatter\n",
    "matplotlib.rcParams['figure.figsize'] = (10, 6)\n",
    "\n",
    "#     'weight' : 'normal',\n",
    "#     'size'   : 15}\n",
    "# matplotlib.rc('font', **font)\n",
    "#data_timeline.plot()\n",
    "sns.set(context='paper',style='white',font_scale=1.5)\n",
    "\n",
    "font = {\n",
    "    'weight' : 'normal',\n",
    "    'size'   : 11}\n",
    "\n",
    "ax1=plt.subplot(2, 2, 1)\n",
    "ax = sns.barplot(x=\"label\", y=\"num_repeats\",ax=ax1,data=df_repeat)\n",
    "plt.tick_params(\n",
    "    axis='x',          # changes apply to the x-axis\n",
    "    which='both',      # both major and minor ticks are affected\n",
    "    bottom=False,      # ticks along the bottom edge are off\n",
    "    top=False,         # ticks along the top edge are off\n",
    "    labelbottom=False) # labels along the bottom edge are off\n",
    "plt.ylabel(\"Avg. reshares\")\n",
    "plt.xlabel(\"(a)\")\n",
    "plt.gca().yaxis.set_major_formatter(FuncFormatter(lambda x, _: int(x)))\n",
    "\n",
    "\n",
    "ax2=plt.subplot(2, 2, 2)\n",
    "ax = sns.barplot(x=\"label\", y=\"users_who_spread\",ax=ax2, data=df_num_users)\n",
    "plt.tick_params(\n",
    "    axis='x',          # changes apply to the x-axis\n",
    "    which='both',      # both major and minor ticks are affected\n",
    "    bottom=False,      # ticks along the bottom edge are off\n",
    "    top=False,         # ticks along the top edge are off\n",
    "    labelbottom=False) # labels along the bottom edge are off\n",
    "plt.ylabel(\"Avg. spreading users\")\n",
    "\n",
    "plt.xlabel(\"(b)\")\n",
    "\n",
    "ax3=plt.subplot(2, 2, 3)\n",
    "ax = sns.barplot(x=\"label\", y=\"groups_affected\",ax=ax3, data=df_num_groups)\n",
    "plt.tick_params(\n",
    "    axis='x',          # changes apply to the x-axis\n",
    "    which='both',      # both major and minor ticks are affected\n",
    "    bottom=False,      # ticks along the bottom edge are off\n",
    "    top=False,         # ticks along the top edge are off\n",
    "    labelbottom=False) # labels along the bottom edge are off\n",
    "plt.ylabel(\"Avg. groups affected\")\n",
    "\n",
    "plt.xlabel(\"(c)\")\n",
    "\n",
    "ax4=plt.subplot(2, 2, 4)\n",
    "ax = sns.barplot(x=\"label\", y=\"days_active\",ax=ax4, data=df_active)\n",
    "plt.tick_params(\n",
    "    axis='x',          # changes apply to the x-axis\n",
    "    which='both',      # both major and minor ticks are affected\n",
    "    bottom=False,      # ticks along the bottom edge are off\n",
    "    top=False,         # ticks along the top edge are off\n",
    "    labelbottom=False) # labels along the bottom edge are off\n",
    "plt.ylabel(\"Avg. days active\")\n",
    "\n",
    "plt.xlabel(\"(d)\")\n",
    "\n",
    "cmap=matplotlib.cm.get_cmap(name='tab20c')\n",
    "\n",
    "custom_lines = [Line2D([0], [0], color=sns.color_palette()[0], lw=6),\n",
    "                Line2D([0], [0], color=sns.color_palette()[1], lw=6)]\n",
    "\n",
    "\n",
    "plt.legend(custom_lines, ['Fear speech', 'Non fear speech'],bbox_to_anchor=(0.5, 2.5), ncol=2)\n",
    "#plt.legend(labels=['fear speech','non fear speech'], loc='center')\n",
    "plt.savefig('../Fear_speech_results/total.pdf',bbox_inches='tight',dpi=400)"
   ]
  },
  {
   "cell_type": "code",
   "execution_count": 84,
   "metadata": {},
   "outputs": [
    {
     "name": "stdout",
     "output_type": "stream",
     "text": [
      "groups 4.599725274725275\n",
      "days active 15.459084745115995\n",
      "re shares 5.6899940440738535\n",
      "users who spread 3.8315934065934067\n"
     ]
    }
   ],
   "source": [
    "print('groups',np.mean(df_num_groups[df_num_groups['label']=='Non Fear speech']['groups_affected']))\n",
    "print('days active',np.mean(df_active[df_active['label']=='Non Fear speech']['days_active']))\n",
    "print('re shares',np.mean(df_repeat[df_repeat['label']=='Non Fear speech']['num_repeats']))\n",
    "print('users who spread',np.mean(df_num_users[df_num_users['label']=='Non Fear speech']['users_who_spread']))"
   ]
  },
  {
   "cell_type": "code",
   "execution_count": 85,
   "metadata": {},
   "outputs": [
    {
     "name": "stdout",
     "output_type": "stream",
     "text": [
      "groups 5.996497373029772\n",
      "days active 19.925839434552763\n",
      "re shares 7.277365491651206\n",
      "users who spread 5.361646234676007\n"
     ]
    }
   ],
   "source": [
    "print('groups',np.mean(df_num_groups[df_num_groups['label']=='Fear speech']['groups_affected']))\n",
    "print('days active',np.mean(df_active[df_active['label']=='Fear speech']['days_active']))\n",
    "print('re shares',np.mean(df_repeat[df_repeat['label']=='Fear speech']['num_repeats']))\n",
    "print('users who spread',np.mean(df_num_users[df_num_users['label']=='Fear speech']['users_who_spread']))"
   ]
  }
 ],
 "metadata": {
  "kernelspec": {
   "display_name": "Python 3 (ipykernel)",
   "language": "python",
   "name": "python3"
  },
  "language_info": {
   "codemirror_mode": {
    "name": "ipython",
    "version": 3
   },
   "file_extension": ".py",
   "mimetype": "text/x-python",
   "name": "python",
   "nbconvert_exporter": "python",
   "pygments_lexer": "ipython3",
   "version": "3.10.9"
  },
  "latex_envs": {
   "LaTeX_envs_menu_present": true,
   "autoclose": true,
   "autocomplete": true,
   "bibliofile": "biblio.bib",
   "cite_by": "apalike",
   "current_citInitial": 1,
   "eqLabelWithNumbers": true,
   "eqNumInitial": 1,
   "hotkeys": {
    "equation": "Ctrl-E",
    "itemize": "Ctrl-I"
   },
   "labels_anchors": false,
   "latex_user_defs": false,
   "report_style_numbering": false,
   "user_envs_cfg": false
  }
 },
 "nbformat": 4,
 "nbformat_minor": 4
}
