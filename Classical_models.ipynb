{
 "cells": [
  {
   "cell_type": "code",
   "execution_count": 1,
   "metadata": {
    "ExecuteTime": {
     "end_time": "2020-09-26T09:07:16.300209Z",
     "start_time": "2020-09-26T09:07:16.126647Z"
    }
   },
   "outputs": [],
   "source": [
    "%load_ext autoreload\n",
    "%autoreload 2\n",
    "from os import path\n",
    "import pandas as pd\n",
    "from tqdm import tqdm_notebook\n",
    "import numpy as np\n"
   ]
  },
  {
   "cell_type": "code",
   "execution_count": 2,
   "metadata": {},
   "outputs": [],
   "source": [
    "from sklearn.metrics import confusion_matrix, f1_score, accuracy_score, recall_score, precision_score, roc_auc_score, precision_recall_fscore_support\n",
    "from sklearn.linear_model import LogisticRegression\n",
    "from sklearn.svm import SVC\n",
    "from sklearn.model_selection import StratifiedKFold"
   ]
  },
  {
   "cell_type": "code",
   "execution_count": 10,
   "metadata": {},
   "outputs": [],
   "source": [
    "def pandas_classification_report(y_true, y_pred):\n",
    "    metrics_summary = precision_recall_fscore_support(\n",
    "            y_true=y_true, \n",
    "            y_pred=y_pred)\n",
    "    cm = confusion_matrix(y_true, y_pred)\n",
    "    cm = cm.astype('float') / cm.sum(axis=1)[:, np.newaxis]\n",
    "    \n",
    "    \n",
    "    avg = list(precision_recall_fscore_support(\n",
    "            y_true=y_true, \n",
    "            y_pred=y_pred,\n",
    "            average='macro'))\n",
    "    avg.append(accuracy_score(y_true, y_pred, normalize=True))\n",
    "    metrics_sum_index = ['precision', 'recall', 'f1-score', 'support','accuracy']\n",
    "    list_all=list(metrics_summary)\n",
    "    list_all.append(cm.diagonal())\n",
    "    class_report_df = pd.DataFrame(\n",
    "        list_all,\n",
    "        index=metrics_sum_index)\n",
    "\n",
    "    support = class_report_df.loc['support']\n",
    "    total = support.sum() \n",
    "    avg[-2] = total\n",
    "\n",
    "    class_report_df['avg / total'] = avg\n",
    "\n",
    "    return class_report_df.T"
   ]
  },
  {
   "cell_type": "code",
   "execution_count": 4,
   "metadata": {},
   "outputs": [],
   "source": [
    "parent_path='Data/'\n",
    "\n",
    "import json\n",
    "with open(parent_path+'fear_speech_data.json', encoding = 'utf-8') as fp:\n",
    "    fear_speech_data=json.load(fp)"
   ]
  },
  {
   "cell_type": "code",
   "execution_count": 5,
   "metadata": {},
   "outputs": [
    {
     "data": {
      "text/plain": [
       "{'message_text': '*प्रशासक समिति*✊🚩  ●●●●●●●●●●● ● ● ● 😎🚩 *आंतकवादी संगठनों का💣🔪 इस्लामिक नाम और उनका इस्लाम.....* *धर्म से जुड़ा हुआ अर्थ...* 🐖🐖🐖 *1.लश्करे तैयबा-फरिश्तो की सेना* *2.अल कायदा-अल्लाह का कायदा...* *3.जेश ए मोहम्द-मोहम्मद साहेब का दल...* *4.तहरिक ए तालिबान-पवित्र योद्धाओ का दल...* *5.हिजबुल मुजादिन-इस्लामी बलिदानियो का समूह...* *6.बोको हराम -पैगम्बर मुहम्मद की शिक्षा को फैलाने के लिए प्रतिबद्ध..* *सभी मुस्लमान अज्ञानि अल्लाह की बताई हुई रूहानी किताब क़ुरआन की बताई राह* *(पूरी दुनिया को इस्लाम बनाना)पर ही चल रहे है कोई ज्यादा बच👨\\u200d👨\\u200d👦* *पैदा करके तो कोई लव जिहाद👫 करके तो कोई काफ़िर(गेर मुसलमान)को मारकर..* *धरती पर आंतक🔫💣💣💣🔫फेला रहे है\\ufeff।।* 😡😡😡😎😡😡😡  *जय सनातन धर्म की*🚩🚩🚩  🙏🚩🇮🇳🔱🏹🐚🕉',\n",
       " 'translated_text': '* Administrator ✊ 🚩   Committee * ● ●●●●●●●●●● 🚩  😎  ● ● ● नाम 🔪  💣  * Islamic name of terrorist organizations and their meaning 🐖  🐖  🐖  in Islam… .. * Religion… * ... 1. * 1. Army of Lashkar-e-Taiba-Farishto * * 2. Al Qaeda-Qaeda of Allah ... * * 3. Team of Jesh-e-Mohammad-Mohammed Saheb ... * * 4. Tahrik-e-Taliban-Holy Warriors Party ... * * 5. Hijbul Mujadin-group of Islamic sacrifices ... * * 6. Boko Haram - Committed to spread the teachings of Prophet Muhammad .. * * All the Muslim ignorance told the Quran of Allah the 👨 👦   👨  spiritual book The path 👫  is going on * (making the whole world Islam), by creating 🔫  💣  💣  💣  🔫 😡 😡 😡 😡  😡   😎   😡    some 🚩 🚩  🙏 🇮 🔱 🐚 🕉   🏹   🇳   🚩   🚩   more children * * *, by creating some love jihad and by killing a kafir (Ger Muslim) .. * * Terror on Earth 💣💣💣🔫Fella is there. * 😡😡😡😎😡😡😡 * Jai of Sanatan Dharma * 🚩🚩🚩 🙏🚩🇮🇳🔱🏹🐚🕉  ',\n",
       " 'annotation_list': ['Fear speech', 'Fear speech', 'Normal'],\n",
       " 'propagation': [{'group_id': 9087,\n",
       "   'user_id': 229869,\n",
       "   'timestamp': 1538130086000},\n",
       "  {'group_id': 7, 'user_id': 215, 'timestamp': 1550186113000}]}"
      ]
     },
     "execution_count": 5,
     "metadata": {},
     "output_type": "execute_result"
    }
   ],
   "source": [
    "fear_speech_data['0']"
   ]
  },
  {
   "cell_type": "markdown",
   "metadata": {},
   "source": [
    "### Doc2Vec\n"
   ]
  },
  {
   "cell_type": "code",
   "execution_count": 6,
   "metadata": {},
   "outputs": [
    {
     "name": "stdout",
     "output_type": "stream",
     "text": [
      "['আমরা', 'poorly', 'an', 'ws', 'till', 'হওয়ার', 'specified', 'কত', 'করায়', 'কী', 'অনেক', 'অন্য', 'न', 'second', 'underneath', 'ওর', 'এ', 'হয়ে', 'besides', 'सो', 'ht', 'যায়', 'ie', 'kind', 'turns', 'someone', 'anyway', 'নয়', 'and', 'needing', \"who'll\", 'किर', 'कोनसा', 'জনকে', 'io', 'करने', \"it'll\", 'primarily', 'hence', 'এরা', 'click', 'মাত্র', 'free', 'ask', 'ने', 'पुरा', 'seem', 'दवारा', 'myself', 'points', 'बहुत', 'especially', 'therefore', 'instead', 'viz', 'সেখানে', 'जब', 'opening', 'thirty', 'নেই', 'gov', 'given', \"you've\", 'कोई', 'হল', 'end', 'সহিত', 'associated', 'করি', 'बनि', 'neednt', 'হয়তো', 'four', 'এখন', 'rather', 'via', 'relatively', 'fill', \"who'd\", 'means', 'these', 'तिन', 'জ্নজন', 'she', 'अदि', 'जहाँ', 'फिर', 'এস', 'अपनी', 'हे', 'whatve', 'part', 'room', 'case', 'haven', 'off', 'thereof', 'htm', 'numbers', 'our', 'small', 'webpage', 'o', 'had', 'যে', 'interesting', 'call', 'mug', 'them', \"we'd\", 'এবার', 'रखें', 'वह', 'weve', 'আপনি', 'their', 'always', 'पूरा', 'उनका', 'still', 'in', 'করতে', 'জানিয়েছে', 'isnt', 'longest', 'clear', 'sj', 'ke', 'থেকে', 'w', 'sometimes', 'course', 'ord', 'কারও', 'used', 'inward', 'newer', 'वहां', 'done', 'no-one', 'wheres', 'shes', 'because', 'saw', 'ran', 'cr', \"they'd\", 'significant', 'কিছুই', 'যাদের', 'near', 'mk', 'thereto', 'কেউই', 'groups', 'ইত্যাদি', 'ওদের', 'হওয়ায়', 'thru', 'youre', 'turned', 'areas', 'someday', 'নিজের', 'sn', 'results', 'पर', 'চালু', 'open', 'anywhere', 'wasnt', 'গিয়ে', 'per', 'beyond', 'away', 'brief', 'am', 'wed', 'side', \"how'll\", 'around', 'parted', 'i.e.', 'was', 'several', 'shall', 'वे', 'দেওয়া', 'forty', 'hardly', 'kr', 'oughtnt', 'ro', 'इसकि', \"wouldn't\", 'tp', 'turn', 'fj', 'edu', 'তো', 'otherwise', \"what's\", 'इतयादि', 'accordance', 'seven', 'allow', 'তিনঐ', 'ck', 'thereve', 'contain', 'বলেছেন', 'hk', 'faces', 'জনের', 'সেটা', 'thinks', 'another', 'hereafter', 'neverf', 'ga', 'पे', 'quickly', 'নেওয়া', 'করেই', 'k', 'herein', 'ওখানে', 'তারৈ', 'tr', 'furthering', 'together', 'মাধ্যমে', 'goods', 'এসে', 'looks', 'আবার', 'আমাকে', 'name', 'til', 'हुए', 'बही', 'এমনকী', 'h', 'যদি', 'hadnt', 'go', 'চান', 'করে', 'are', 'মোট', 'home', 'following', 'यहाँ', \"'twas\", 'आप', 'হয়েছেন', 'itself', 'ca', 'twas', 'places', 'causes', 'reasonably', 'যাওয়া', 'happens', 'bt', 'ms', 'weren', 'owing', 'eg', 'cd', 'himse”', 'could', 'al', 'least', 'seen', 'pn', 'gs', 'text', 'neverless', 'theyre', 'third', 'kept', \"c's\", 'यदि', 'তাঁরা', 'ধরে', 'backwards', 'মোটেই', 'হচ্ছে', 'তথা', \"he's\", 'right', 'thus', 'thoughts', 'fire', 'today', 'বা', 'making', 'its', 'जिंहें', 'etc', 'abst', 'until', \"they'll\", 'দেখা', 'আর', 'de', 'থেকেই', 'mainly', 'নয়', 'जो', 'गया', 'oldest', 'order', 'একে', 'ছিলেন', 'turning', \"i'm\", 'aq', 'এঁদের', 'vol', 'me', 'having', 'ওরা', 'হয়নি', 'wf', 'backing', \"oughtn't\", 'substantially', 'আমি', 'consequently', 'ne', 'unlikely', 'tried', 'व', 'would', 'greatest', 'প্রভৃতি', 'তিনিও', 'ci', 'way', 'যাবে', 'thick', 'जिसे', 'भि', 'went', 'bf', 'former', 'নিয়ে', 'वगेरह', \"i'd\", 'hid', 'mostly', 'ভাবে', \"weren't\", 'आदि', 'तरह', 'এল', 'एक', \"you'll\", 'जिन्हों', 'মতো', 'करता', 'whichever', 'billion', 'opposite', 'theirs', 'br', 'et-al', 'towards', 'তাও', 'same', 'gy', 'theyd', 'do', 'resulting', 'announce', 'ourselves', 'useful', 'ref', 'ltd', 'इसमें', 'regardless', 'পরে', 'বললেন', 'চলে', 'হতে', 'তা', 'detail', 'মনে', \"doesn't\", 'just', 'section', 'ভাবেই', 'young', 'amidst', 'পাচ', 'sy', \"shouldn't\", 'six', 'your', 'ইহা', 'हुइ', 'www', 'hundred', 'इसी', 'আপনার', 'provides', 'mustnt', 'wasn', \"there'll\", 'facts', 'একবার', 'mo', 'needed', 'hr', 'parts', \"she'll\", 'mightnt', 'last', 'general', 'उन', 'চেষ্টা', 'mq', \"might've\", 'somethan', 'उसी', 'घर', 'yu', 'use', 'उनके', 'whereas', 'পরেই', 'theyve', 'wholl', 'fi', 'তাহার', 'bb', 'পর্যন্ত', 'ahead', 'twelve', 'youll', 'হবে', 'face', 'lets', 'iq', 'sixty', 'noone', 'shouldn', 'তাদের', 'il', 'इसका', 'ad', 'আছে', 'have', 've', 'appropriate', 'যা', 'neither', 'such', 'must', 'outside', 'sl', 'strongly', 'followed', 'tf', 'showns', 'सभि', 'possible', 'becomes', 'उनकी', 'whatever', 'whomever', 'করছে', 'test', 'tis', 'जेसे', 'कोइ', 'গুলি', 'knows', 'यही', 'শুরু', 'believe', 'whither', 'इन्हों', 'om', 'comes', 'versus', 'along', 'fk', 'yourselves', 'होति', 'makes', 'approximately', 'nl', 'ending', 'je', 'lately', 'hereupon', 'known', 'secondly', 'before', 'within', 'elsewhere', 'sd', 'যেমন', 'goes', 'beginnings', 'far', 'going', 'सारा', 'হয়েই', 'अपने', 'wanted', 'er', 'जिंहों', 'এখানেই', 'काफ़ी', 'বদলে', 'width', 'लिये', 'পরেও', 'সেই', 'between', 'other', 'corresponding', 'need', 'mt', \"shan't\", 'seeming', 'ups', 'inc.', 'the', 'whom', 'পারি', \"what'll\", \"it'd\", 'likewise', \"don't\", 'obtain', 'ऱ्वासा', 'men', 'tm', 'इन्हीं', 'nc', 'তুমি', 'करें', 'says', 'con', 'lu', 'certain', 'g', 'বিভিন্ন', 'fm', 'প্রথম', 'cl', 'jo', 'ordered', 'কোনো', 'दिया', 'through', 'sr', 'भी', 'made', 'fairly', 'বিষয়টি', 'thin', 'ge', 'उनको', 'after', 'इसके', 'myse”', 'd', 'seeing', 'ma', 'whim', 'didnt', 'bs', 'meanwhile', 'তেমন', 'sensible', 'alongside', 'অবশ্য', 'describe', 'cause', 'जिन', 'कर', 'lr', 'sb', 'ছাড়াও', 'ao', 'করার', 'described', 'es', 'shell', 'হয়েছে', 'obtained', 'ये', 'gh', 'করবেন', 'পারেন', 'fewer', 'জানা', 'আমার', 'ধামার', 'available', 'taken', 'जैसा', 'আগামী', 'এখানে', 'tj', 'value', 'never', 'th', 'वरग', 'this', 'निहायत', 'kn', 'next', \"she's\", 'wells', 'সমস্ত', 'तिन्हें', 'namely', \"mustn't\", 'সুতরাং', 'needs', 'bz', 'है', 'দুই', 'कोन', 'সহ', \"haven't\", \"ain't\", 'कहते', 'arent', 'directly', 'him', 'तक', 'cg', 'v', 'उस', 'somewhat', 'cases', 'trying', 'hasnt', \"won't\", \"isn't\", 'things', 'against', 'thereupon', 'বার', 'পাওয়া', 'something', 'everywhere', 'কিংবা', 'somebody', 'vols', 'তবে', 'm', 'problem', 'nevertheless', 'ways', 'both', 'whos', 'দেন', 'aint', 'লক্ষ', 'gmt', 'wont', 'omitted', 'couldn', 'अपना', 'এর', 'man', 'uucp', 'कई', 'ব্যবহার', 'यह', 'lc', 'एवं', 'accordingly', 'come', 'কেউ', 'zr', 'इसकी', \"can't\", 'wants', 'little', 'sincere', 'readily', 'उंहें', 'at', \"let's\", 'আদ্যভাগে', 'you', 'though', 'they', 'ls', 'welcome', 'জে', 'sa', 'year', 'aren', 'presents', 'possibly', 'wonder', 'জানতে', 'merely', 'সামনে', 'ive', 'inner', 'states', 'big', 'সম্প্রতি', 'हुअ', 'dk', 'during', 'problems', 'who', 'anyone', 'जिस', 'rd', 'howbeit', 'sv', 'किसि', 'hi', 'ky', 'briefly', 'his', 'को', 'even', 'np', 'state', 'significantly', 'throughout', 'fact', 'back', 'pk', 'দিয়েছে', 'নাই', 'higher', 'really', 'best', 'अभी', 'unfortunately', 'whereby', 'लिए', 'if', 'দুটো', 'নিজে', 'बहि', 'se', 'information', 'currently', 'overall', 'sees', 'cm', 'keeps', 'asks', 'farther', 'y', 'तिस', 'perhaps', 'where', 'उन्हीं', 'কাছ', 'দেখতে', 'मानो', 'বেশ', 'everybody', 'সেখান', 'স্পষ্ট', 'affected', 'move', 'highest', 'newest', 'হন', 'downs', 'effect', \"we'll\", 'আই', 'उंहों', 'পেয়ে', 'dj', 'soon', 'mean', 'वर्ग', 'তার', 'bg', 'हो', 'some', 'অর্থাত', 'ended', 'undoing', 'td', 'become', 'वाले', \"'ll\", 'similarly', 'সে', 'interested', 'maynt', 'কাছে', 'concerning', 'হলেও', 'হয়েছিল', 'here', 'sk', 'um', 'a', 'does', 'gives', 'afterwards', 'इन', 'ml', 'যাতে', 'mc', 'दो', 'across', 'over', 'evermore', 'f', 'as', 'may', 'herse”', 'should', 'greetings', 'इत्यादि', 'cf', 'whenever', 'হওয়া', 'considering', 'itse”', 'anymore', 'felt', 'begin', 'shows', 'রয়েছে', 'tends', 'নেওয়া', 'দিয়েছেন', 'arpa', 'being', 'apparently', 'thereby', 'নিয়ে', 'tz', 'उन्हों', 'গেল', 'ng', 'इसे', 'thereafter', 'অথবা', 'stop', 'mx', 'pointed', 'bm', 'অনুযায়ী', 'তাঁদের', 'उसके', 'amount', 'my', 'downwards', 'थि', \"one's\", 'doesn', 'act', 'opens', \"where'd\", 'few', 'join', 'eh', 'gi', 'mn', 'successfully', 'sec', 'came', 'ছিল', 'अपनि', 'उंहिं', 'thence', 'down', 'wouldn', 'et', 'থাকেন', 'greater', 'place', 'uz', 'mr', 'recent', 'का', 'তুলে', 'un', 'ফের', \"here's\", 'होना', 'संग', 'else', 'but', 'হবেন', 'gf', 'co', 'si', 'thoughh', 'যারা', 'রকম', 'সেটাই', 'those', 'keep', 'nine', 'shed', 'everything', 'জানানো', 'dare', 'ill', 'খুব', 'notwithstanding', 'finds', 'necessarily', 'most', 'होता', 'beforehand', 'new', 'পেয়্র্', 'গেছে', 'willing', 'টি', 'largely', 'downed', 'হয়', 'first', 'sc', 'উচিত', 'द्वारा', 'index', 'उसे', 'wish', \"mightn't\", 'z', 'করেছিলেন', 'tip', 'এব', 'আগে', 'amongst', 'null', 'herself', 'thing', 'হৈলে', 'every', 'moreover', 'হইয়া', 'চায়', 'कौनसा', 'what', 'ought', 'কমনে', 'हुई', 'kw', 'cry', 'ii', 'ba', 'अभि', 'za', 'किन्हें', 'तिंहें', \"couldn't\", \"when'll\", 'হত', 'वहीं', 'এতে', 'বি', \"there're\", 'therell', 'तब', 'তাহা', 'computer', 'zero', 'plus', 'থাকায়', 'यहि', \"i'll\", 'mu', 'হলে', 'jm', 'जैसे', 'member', 'pa', 'site', 'indicated', 'inside', 'appreciate', 'whatll', 'সঙ্গে', 'using', 'মধ্যে', 'कइ', 'mil', 'vs', 'जा', 'grouping', 'which', 'যখন', 'nr', 'shant', 'दबारा', 'doubtful', 'साथ', 'predominantly', 'havent', 'bj', 'এত', 'youd', 'presumably', \"why'll\", 'तिंहों', 'furthered', 'interests', 'containing', 'হোক', 'এবং', 'nonetheless', 'tw', 'below', 'ही', 'যাকে', \"when'd\", 'members', 'ends', 'স্বয়ং', 'example', 'thered', 'fx', 'area', 'eleven', 'well', 'কিছু', 'করছেন', 'नीचे', 'যান', 'took', 'id', 'mg', 'there', 'quite', 'provided', 'invention', 'পর', 'about', 'की', 'later', 'com', 'taking', 'উত্তর', 'ঠিক', 'he', 'full', 'বসে', \"should've\", 'cc', 'despite', 'तिसे', 'जितना', 'gets', 'ph', \"she'd\", 'point', 'gd', 'bn', 'good', 'zm', 'resulted', 're', 'জন্য', 'how', 'unless', 'generally', 'mine', 'aside', 'dm', 'होती', 'inc', 'करते', 'except', 'younger', 'কি', 'been', 'af', 'पहले', 'world', 'হতেই', 'প্রাথমিক', 'changes', 'work', 'कहा', 'for', 'yt', 'oh', 'asked', 'wanting', 'of', 'or', \"i've\", 'ten', 'কোনও', 'follows', 'behind', 'bo', 'exactly', \"they're\", 'thousand', 'half', 'hm', 'जिधर', 'শুধু', 'not', 'না', \"what'd\", 'onto', 'while', 'once', 'reserved', 'long', 'less', 'তবু', 'अप', 'অবধি', 'fully', 'যেখানে', 'itll', 'related', 'যতটা', 'পক্ষে', \"'ve\", 'then', \"could've\", 'que', 'each', 'wherein', 'সেটাও', 'hither', 'ts', 'तो', \"you'd\", 'এই', \"why's\", 'already', 'netscape', 'sg', 'মধ্যভাগে', 'cu', 'সবার', 'nothing', 'nu', 'http', 'run', 'now', 'किसी', 'smaller', 'html', 'মধ্যেও', 'वहिं', \"c'mon\", 'whereupon', 'forward', 'ignored', 'yet', 'हुआ', \"aren't\", 'fix', 'therere', 'बाद', 'previously', 'wouldnt', 'bill', 'backward', 'specifying', \"how'd\", 'আরও', 'hereby', 'সঙ্গেও', 'থেকেও', 'top', 'potentially', 'ordering', \"would've\", 'ni', 'years', 'ninety', 'আজ', 'particular', 'नहीं', 'c', 'बनी', 'help', 'appear', 'different', 'adopted', 'দিন', 'hopefully', 'immediate', 'maybe', 'সেটি', 'insofar', 'adj', 'thatll', 'get', 'থাকে', 'better', 'উনি', 'respectively', 'জানায়', 'কাজ', 'fifth', 'got', 'becoming', 'n', 'হয়', 'cx', 'rw', 'রাখা', 'make', 'হিসাবে', 'bh', 'liked', 'probably', 'वहाँ', 'ওঁরা', 'लेकिन', 'sh', 'lk', 'upwards', 'added', 'gotten', 'it', 'seems', 'hers', 'নানা', 'au', 'without', 'দিতে', \"needn't\", 'mm', 'nay', 'show', 'thatve', 'গিয়ে', 'এটি', 'cant', 'past', 'মধ্যেই', 'often', 'কয়েকটি', 'system', 'lv', 'বলেন', 'pages', 'twenty', 'কবে', 'ফলে', 'ch', 'throug', 'knew', 'pmid', 'সাধারণ', 'let', 'allows', 'করা', 'to', 'किया', 'cannot', 'kg', 'early', 'মতোই', 'length', 'किसे', 'works', 'refs', 'একই', 'auth', 'सकते', 'এখনও', 'কারণ', 'lest', 'slightly', \"we've\", 'ua', 'গেলে', 'upon', 'mz', 'pointing', 'বলা', 'tg', 'enough', '39', 'হইতে', 'with', 'mv', 'সব', 'যার', 'pe', 'किंहों', 'কয়েক', 'থাকবে', '10', 'cy', 'मे', 'non', 'প্রতি', 'anybody', 'vi', 'definitely', 'want', 'high', 'তাহাতে', 'opened', 'lb', \"mayn't\", 'kz', 'any', 'parting', 'ক্ষেত্রে', \"hasn't\", 'dear', 'जहां', 'pt', 'asking', 'sup', 'কে', \"who's\", 'affecting', 'among', 'gg', 'তাকে', 'তাঁাহারা', 'u', 'look', 'kp', 'में', 'differently', 'buy', 'indicate', 'nobody', 'normally', 'কখনও', 'caption', 'fr', \"where'll\", 'puts', 'line', 'i', 'her', 'give', 'यहां', 'অনেকে', 'বন', 'করবে', 'whose', 'gave', 'homepage', 'by', 'कितना', 'rooms', 'j', 'uses', 'जेसा', 'thought', 'দু', 'is', 'তাঁকে', 'और', 'specifically', 'gn', 'उन्हें', 'again', 'fifty', 'entirely', 'सकता', 'তারা', 'miss', 'msie', 'एसे', 'seventy', 'copy', \"they've\", 'ओर', 'তত', 'su', 'এটা', 'jp', 'selves', 'similar', 'भीतर', 'ও', 'presenting', 'find', 'importance', 'truly', \"must've\", 'ir', 'এমনি', 'করিয়ে', 'isn', 'kh', 'fifteen', 'out', 'পি', 'apart', 'itd', 'इस', 'seriously', 'found', 'tc', 'करना', 'no', 'mw', 'were', 'ওঁর', 'million', 'করেছে', 'backed', 'এতটাই', 'নিজেদের', 'थी', 'others', 'pp', 'mp', 'ones', 'होते', 'seemed', 'के', 'll', 'ok', 'shown', 'sufficiently', 'certainly', 'showing', 'হাজার', 'became', 'regards', 'sides', 'hn', 'nd', 'এঁরা', 'gl', 'az', 'under', 'uy', 'okay', 'usefully', 'indeed', 'nf', 'করেছেন', 'beginning', 'হইবে', \"what've\", 'see', 'large', 'further', 'বরং', 'trillion', 'কেন', \"he'd\", 'তাতে', 'think', 'জানিয়ে', 'ধরা', 'নতুন', 'প্রায়', 'इंहिं', 'এক্', 'ec', 'furthermore', 'উপর', 'tell', 'যদিও', 'রেখে', 'vn', 'ag', 'প্রযন্ত', 'ai', 'self', 'অথচ', 'তিনি', 'fify', 'cs', 'নিতে', 'please', 'কাউকে', 'more', 'gr', 'two', 'যাচ্ছে', 'ऐसे', 'py', 'bd', 'fo', 'giving', 'ওঁদের', 'placed', \"there'd\", \"where's\", 'round', \"hadn't\", 'somewhere', 'va', 'थे', 'won', \"t's\", 'yourself', 'doing', 'gone', \"when's\", 'has', 'date', 'নিজেই', 'বিনা', 'that', 'ex', 'এটাই', 'whod', 'अंदर', 'sometime', 'uk', 'will', 'whilst', 'unto', 'whoever', 'dz', \"there's\", 'চার', 'নাকি', 'অন্তত', 'above', 'কয়েক', 'ki', 'although', 'वुह', 'सबसे', 'ye', 'anything', 'so', 'toward', 'প্রায়', 'int', 'r', 'দিলেন', 'did', 'रहे', 'forth', 'actually', 'অনেকেই', 'গিয়েছে', 'wherever', 'clearly', 'দেওয়া', 'bv', 'forever', 'obviously', 'gb', 'great', 'begins', 'differ', 'তাই', 'know', 'থাকা', 'km', 'li', 's', 'biol', 'novel', 'অতএব', \"it's\", 'किन्हों', 'important', 'sent', 'particularly', 'amoungst', 'hed', 'present', 'কোটি', \"wasn't\", 'bi', 'whereafter', 'দেওয়ার', 'org', 'whence', \"that've\", \"we're\", 'youve', 'ar', 'however', 'कुछ', 'lower', 'able', 'bw', 'when', 'अत', 'हें', 'जिन्हें', 'बाला', 'proud', 'nos', 'anyways', 'दूसरे', 'तिन्हों', 'co.', 'b', 'according', 'যাঁরা', 'la', 'ওকে', 'number', 'nowhere', 'hes', 'চেয়ে', 'necessary', 'ae', 'thanks', 'almost', 'उनकि', 'furthers', 'তোমার', 'minus', 'বক্তব্য', 'tk', 'page', 'regarding', \"he'll\", 'old', 'उसि', 'था', \"how's\", 'ring', 'words', 'mrs', 'usefulness', 'दुसरा', 'none', 'arise', 'ly', 'specify', 'করেন', 'ee', 'say', 'cn', 'widely', 'পারে', 'ব্যাপারে', 'consider', 'doesnt', 'up', 'immediately', 'began', 'nz', 'vg', 'করিয়া', 'aw', 'होने', 'hu', 'साभ', 'themselves', 'বহু', 'हैं', 'मगर', 'কিন্তু', 'बिलकुल', 'older', 'than', 'thoroughly', 'since', 'grouped', 'ওই', 'ঐ', 'কোন', 'take', 'thanx', 'indicates', 'cz', 'awfully', 'looking', 'नहिं', 'নেওয়ার', 'website', 'যাওয়ার', 'from', 'beside', 'can', 'या', 'তারপর', 'thats', 'theyll', 'longer', 'sm', 'tries', 'ছাড়া', 'pm', 'হলেই', 'qv', 'tt', 'twice', 'suggest', 'be', 'कुल', 'বলতে', 'microsoft', 'st', 'যিনি', 'hell', 'किंहें', 'abroad', 'orders', 'on', 'research', 'বলে', 'due', 'যথেষ্ট', \"a's\", 'mill', 'l', 'sorry', 'ours', 'করলেন', 'many', 'ah', 'हि', 'ru', 'only', 'low', 'somehow', 'various', 'showed', 'এদের', 'कि', 'five', 'इनका', 'র', 'pr', 'inasmuch', 'latest', \"you're\", 'ed', 'md', 'দিকে', 'করাই', 'presented', 'unlike', 'us', 'recently', 'জন্যওজে', 'serious', 'all', 'কাজে', 'ना', 'ই', 'web', 'দিয়ে', 'ফিরে', \"that's\", \"that'll\", 'হলো', 'bottom', 'তখন', 'nearly', 'getting', 'থাকবেন', 'lt', 'theres', 'করিতে', 'eight', 'সি', 'amid', 'cv', 'like', 'thou', 'इंहों', 'qa', 'x', 'tn', 'sz', 'youngest', 'saying', 'whats', 'one', 'एस', 'pw', 'backs', 'रवासा', \"'tis\", 'gu', 'দুটি', 'tv', 'ug', 'कौन', 'formerly', 'निचे', 'গোটা', 'into', 'যাওয়া', 'इसि', 'hasn', 'latter', 'working', 'আগেই', 'everyone', \"daren't\", \"there've\", 'वग़ैरह', 'q', 'shouldnt', 'couldnt', 'usually', 'whole', 'বিশেষ', 'ago', 'gm', 'latterly', 'vu', 'group', 'দেখে', 'either', 'किस', 'evenly', 'therein', 'nor', 'na', 'से', 'try', 'thank', 'yes', 'করলে', 'নাগাদ', 'contains', 'too', 'साबुत', 'also', 'keys', 'werent', 'promptly', 'यिह', 'যত', 'gt', 'heres', 'gw', 'উপরে', 'himself', 'didn', 'इन्हें', 'darent', 'downing', 'yours', 'বাদে', 'যাঁর', 'interest', 'একটি', 'gq', 'pl', 'sub', 'likely', 'meantime', 'তাহলে', 'im', 'জন', 'vc', 'pg', 'gp', 'ableabout', 'सभी', 'ever', 'worked', 'cmon', 'we', \"didn't\", 'beings', 'जीधर', 'e', 'sure', 'net', 'এমন', 't', 'দেয়', 'বেশি', 'smallest', 'why', 'p', 'own', 'আমাদের', 'said', 'इंहें', 'eighty', 'যেন', \"why'd\", 'whether', 'anyhow', 'hello', 'noted', 'ff', 'empty', 'don', 'pf', 'भितर', 'dont', 'very', 'much', 'front', 'affects', 'दुसरे', 'seconds', 'বলল', 'দ্বারা', 'might', 'रहा', 'mh', 'three', 'কেখা', 'তাঁর', 'alone', 'thorough', 'put', 'যেতে', 'काफि', 'आएगा', 'गए', 'गई', 'करे', 'नही', 'हम', 'वो', 'follow', 'दे', '₹', 'हर', '••••', '▀▄▀', 'नही', 'अब', 'व्हाट्सएप', '॥', '–', 'ov', 'डॉ', 'ॐॐॐॐॐॐॐॐॐॐॐॐॐॐॐॐॐॐॐॐ', 'क्या', 'जी', 'वो', '╬═╬', '_', 'backhand_index_pointing_down', 'backhand_index_pointing_right', 'link', 'subscribe', 'backhand_index_pointing_down_light_skin_tone', 'backhand_index_pointing_up', 'Whatsapp', 'Follow', 'Tweet', 'सब्सक्राइब', 'Link', \"''\", '``', '________________________________', '_________________________________________']\n"
     ]
    },
    {
     "name": "stderr",
     "output_type": "stream",
     "text": [
      "C:\\Users\\anubh\\AppData\\Local\\Temp\\ipykernel_4496\\1086597566.py:7: TqdmDeprecationWarning: This function will be removed in tqdm==5.0.0\n",
      "Please use `tqdm.notebook.tqdm` instead of `tqdm.tqdm_notebook`\n",
      "  for key in tqdm_notebook(fear_speech_data.keys(),total=len(fear_speech_data)):\n"
     ]
    },
    {
     "data": {
      "application/vnd.jupyter.widget-view+json": {
       "model_id": "72226f6ea9f94daea2cd49d607602d41",
       "version_major": 2,
       "version_minor": 0
      },
      "text/plain": [
       "  0%|          | 0/4782 [00:00<?, ?it/s]"
      ]
     },
     "metadata": {},
     "output_type": "display_data"
    }
   ],
   "source": [
    "from utils.preprocess import *\n",
    "from gensim.test.utils import common_texts\n",
    "from gensim.models.doc2vec import Doc2Vec, TaggedDocument\n",
    "\n",
    "list_sents = []\n",
    "list_labels=[]\n",
    "for key in tqdm_notebook(fear_speech_data.keys(),total=len(fear_speech_data)):\n",
    "    element = fear_speech_data[key]\n",
    "    \n",
    "    count_fearspeech=element['annotation_list'].count('Fear speech')\n",
    "    count_normal=element['annotation_list'].count('Normal')\n",
    "    \n",
    "    if(count_fearspeech>count_normal):\n",
    "        one_fear_speech=1\n",
    "    else:\n",
    "        one_fear_speech=0\n",
    "    \n",
    "    text=preprocess_sent(element['message_text'],params={'remove_numbers': True, 'remove_emoji': True, 'remove_stop_words': False, 'tokenize': True})\n",
    "    list_sents.append(text)\n",
    "    list_labels.append(one_fear_speech)"
   ]
  },
  {
   "cell_type": "code",
   "execution_count": 7,
   "metadata": {},
   "outputs": [],
   "source": [
    "X_0 = np.array(list_sents,dtype='object')\n",
    "y_0 = np.array(list_labels)"
   ]
  },
  {
   "cell_type": "code",
   "execution_count": 8,
   "metadata": {},
   "outputs": [],
   "source": [
    "def model_run(model_name='lr'):\n",
    "    acc=[]\n",
    "    macro_f1=[]\n",
    "    prec=[]\n",
    "    recall=[]\n",
    "    prob=[]\n",
    "    auc_roc=[]\n",
    "    list_total_preds=[]\n",
    "    list_total_truth=[]\n",
    "    skf = StratifiedKFold(n_splits=5, shuffle = True , random_state= 2020)\n",
    "\n",
    "    for train_index, test_index in skf.split(X_0, y_0):\n",
    "        print(\"TRAIN:\", train_index[0:5], \"TEST:\", test_index[0:5])\n",
    "        X_train, X_test = X_0[train_index], X_0[test_index]\n",
    "        y_train, y_test = y_0[train_index], y_0[test_index]\n",
    "\n",
    "        class_weights = dict(zip(np.unique(y_train), (np.sum(y_train.shape) / (len(np.unique(y_train)) * np.bincount(y_train)))))\n",
    "\n",
    "\n",
    "        print(class_weights)\n",
    "        ### Generate doc2vec vectors\n",
    "        documents = [TaggedDocument(doc, [i]) for i, doc in enumerate(X_train)]\n",
    "        model = Doc2Vec(documents, vector_size=300, window=5, min_count=1, workers=10)\n",
    "        X_train_embed = np.array([list(model.infer_vector(ele)) for ele in X_train])\n",
    "        X_test_embed = np.array([list(model.infer_vector(ele)) for ele in X_test])\n",
    "        \n",
    "        if(model_name=='lr'):\n",
    "            classifier= LogisticRegression(class_weight='balanced',max_iter=500)\n",
    "        \n",
    "        elif(model_name=='svc'):\n",
    "            classifier=SVC(class_weight='balanced',kernel='rbf',probability=True)\n",
    "        \n",
    "        classifier.fit(X_train_embed, y_train)\n",
    "        y_pred=classifier.predict(X_test_embed)\n",
    "        y_pred_proba = classifier.predict_proba(X_test_embed)\n",
    "        acc.append(accuracy_score(y_test, y_pred))\n",
    "        macro_f1.append(f1_score(y_test, y_pred, average='macro'))\n",
    "        auc_roc.append(roc_auc_score(y_test, y_pred_proba[:,1],average='macro'))\n",
    "        prec.append(precision_score(y_test, y_pred))\n",
    "        recall.append(recall_score(y_test, y_pred))\n",
    "        prob.append(classifier.predict_proba(X_test_embed))\n",
    "        list_total_preds+=list(y_pred)\n",
    "        list_total_truth+=list(y_test)\n",
    "    return acc, macro_f1, prec, prob,auc_roc,list_total_preds,list_total_truth,prec,recall"
   ]
  },
  {
   "cell_type": "markdown",
   "metadata": {},
   "source": [
    "### SVC\n"
   ]
  },
  {
   "cell_type": "code",
   "execution_count": 11,
   "metadata": {},
   "outputs": [
    {
     "name": "stdout",
     "output_type": "stream",
     "text": [
      "TRAIN: [0 1 2 3 4] TEST: [ 6 12 13 17 21]\n",
      "{0: 0.6567651098901099, 1: 2.0947426067907995}\n",
      "TRAIN: [0 1 2 3 4] TEST: [11 14 15 20 26]\n",
      "{0: 0.6567651098901099, 1: 2.0947426067907995}\n",
      "TRAIN: [0 2 3 4 5] TEST: [ 1 18 19 24 28]\n",
      "{0: 0.6569368131868132, 1: 2.0929978118161925}\n",
      "TRAIN: [0 1 2 3 4] TEST: [ 7  8 23 29 32]\n",
      "{0: 0.6569368131868132, 1: 2.0929978118161925}\n",
      "TRAIN: [ 1  6  7  8 11] TEST: [0 2 3 4 5]\n",
      "{0: 0.6569368131868132, 1: 2.0929978118161925}\n",
      "             precision    recall  f1-score  support  accuracy\n",
      "0             0.863002  0.849725  0.856312   3640.0  0.849725\n",
      "1             0.543406  0.570053  0.556410   1142.0  0.570053\n",
      "avg / total   0.703204  0.709889  0.706361   4782.0  0.782936\n"
     ]
    }
   ],
   "source": [
    "acc, macro_f1, prec, prob,auc_roc,list_total_preds,list_total_truth,prec,recall=model_run(model_name='svc')\n",
    "print(\"Accuracy: %0.2f (+/- %0.2f)\" % (np.mean(acc), np.std(acc) * 2))\n",
    "print(\"Macro F1: %0.2f (+/- %0.2f)\" % (np.mean(macro_f1), np.std(macro_f1) * 2))\n",
    "print(\"Auc Roc F1: %0.2f (+/- %0.2f)\" % (np.mean(auc_roc), np.std(auc_roc) * 2))\n",
    "print(\"Precision for +ve class: %0.2f (+/- %0.2f)\" % (np.mean(prec), np.std(prec) * 2))\n",
    "print(\"Recall for +ve class: %0.2f (+/- %0.2f)\" % (np.mean(recall), np.std(recall) * 2))\n",
    "print(pandas_classification_report(list_total_truth, list_total_preds))\n"
   ]
  },
  {
   "cell_type": "markdown",
   "metadata": {},
   "source": [
    "\n",
    "### Logistic Regression"
   ]
  },
  {
   "cell_type": "code",
   "execution_count": null,
   "metadata": {},
   "outputs": [
    {
     "name": "stdout",
     "output_type": "stream",
     "text": [
      "TRAIN: [0 1 2 3 4] TEST: [ 6 12 13 17 21]\n",
      "{0: 0.6567651098901099, 1: 2.0947426067907995}\n",
      "TRAIN: [0 1 2 3 4] TEST: [11 14 15 20 26]\n",
      "{0: 0.6567651098901099, 1: 2.0947426067907995}\n",
      "TRAIN: [0 2 3 4 5] TEST: [ 1 18 19 24 28]\n",
      "{0: 0.6569368131868132, 1: 2.0929978118161925}\n",
      "TRAIN: [0 1 2 3 4] TEST: [ 7  8 23 29 32]\n",
      "{0: 0.6569368131868132, 1: 2.0929978118161925}\n",
      "TRAIN: [ 1  6  7  8 11] TEST: [0 2 3 4 5]\n",
      "{0: 0.6569368131868132, 1: 2.0929978118161925}\n",
      "Accuracy: 0.74 (+/- 0.02)\n",
      "Macro F1: 0.68 (+/- 0.03)\n",
      "Auc Roc: 0.77 (+/- 0.02)\n",
      "Precision for +ve class: 0.47 (+/- 0.04)\n",
      "Recall for +ve class: 0.64 (+/- 0.08)\n",
      "             precision    recall  f1-score  support  accuracy\n",
      "0             0.872406  0.773901  0.820207   3640.0  0.773901\n",
      "1             0.470058  0.639229  0.541744   1142.0  0.639229\n",
      "avg / total   0.671232  0.706565  0.680975   4782.0  0.741740\n"
     ]
    }
   ],
   "source": [
    "acc, macro_f1, prec, prob,auc_roc,list_total_preds,list_total_truth,prec,recall=model_run(model_name='lr')\n",
    "\n",
    "print(\"Accuracy: %0.2f (+/- %0.2f)\" % (np.mean(acc), np.std(acc) * 2))\n",
    "print(\"Macro F1: %0.2f (+/- %0.2f)\" % (np.mean(macro_f1), np.std(macro_f1) * 2))\n",
    "print(\"Auc Roc: %0.2f (+/- %0.2f)\" % (np.mean(auc_roc), np.std(auc_roc) * 2))\n",
    "print(\"Precision for +ve class: %0.2f (+/- %0.2f)\" % (np.mean(prec), np.std(prec) * 2))\n",
    "print(\"Recall for +ve class: %0.2f (+/- %0.2f)\" % (np.mean(recall), np.std(recall) * 2))\n",
    "print(pandas_classification_report(list_total_truth, list_total_preds))\n"
   ]
  },
  {
   "cell_type": "code",
   "execution_count": null,
   "metadata": {},
   "outputs": [],
   "source": []
  },
  {
   "cell_type": "code",
   "execution_count": null,
   "metadata": {},
   "outputs": [],
   "source": []
  }
 ],
 "metadata": {
  "kernelspec": {
   "display_name": "Python 3 (ipykernel)",
   "language": "python",
   "name": "python3"
  },
  "language_info": {
   "codemirror_mode": {
    "name": "ipython",
    "version": 3
   },
   "file_extension": ".py",
   "mimetype": "text/x-python",
   "name": "python",
   "nbconvert_exporter": "python",
   "pygments_lexer": "ipython3",
   "version": "3.10.9"
  },
  "latex_envs": {
   "LaTeX_envs_menu_present": true,
   "autoclose": true,
   "autocomplete": true,
   "bibliofile": "biblio.bib",
   "cite_by": "apalike",
   "current_citInitial": 1,
   "eqLabelWithNumbers": true,
   "eqNumInitial": 1,
   "hotkeys": {
    "equation": "Ctrl-E",
    "itemize": "Ctrl-I"
   },
   "labels_anchors": false,
   "latex_user_defs": false,
   "report_style_numbering": false,
   "user_envs_cfg": false
  }
 },
 "nbformat": 4,
 "nbformat_minor": 4
}
