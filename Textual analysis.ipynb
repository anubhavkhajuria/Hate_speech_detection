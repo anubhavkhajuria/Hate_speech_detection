{
 "cells": [
  {
   "cell_type": "code",
   "execution_count": 24,
   "metadata": {},
   "outputs": [
    {
     "name": "stdout",
     "output_type": "stream",
     "text": [
      "The autoreload extension is already loaded. To reload it, use:\n",
      "  %reload_ext autoreload\n"
     ]
    }
   ],
   "source": [
    "%load_ext autoreload\n",
    "%autoreload 2\n",
    "import parmap\n",
    "import pandas as pd\n",
    "from tqdm import tqdm,tqdm_notebook\n",
    "from utils.marking_similars import *\n",
    "from utils.preprocess import *\n",
    "from utils.emoji_extract import *\n",
    "from utils.visualisation import latex_emoji_communities\n",
    "import matplotlib.pyplot as plt\n",
    "\n",
    "import empath\n",
    "import seaborn as sns\n",
    "from empath import Empath\n",
    "import networkx as nx\n",
    "import matplotlib\n",
    "from numpy.random import seed\n",
    "from numpy.random import randn\n",
    "from scipy.stats import mannwhitneyu\n",
    "\n",
    "\n",
    "\n",
    "emoji_stop=['☝','✌', '▪','🏼','🏻','🏿','🏾','🏽','➖','🔽','🇴','🇧','⚜','☘', '☕', '♦','▪','‼','♻','🇪','🇺','🇮', '🇳','🇲', '🇷', '🇸', '🇦', '🇵', '🇰', '🇨']"
   ]
  },
  {
   "cell_type": "code",
   "execution_count": 25,
   "metadata": {},
   "outputs": [],
   "source": [
    "parent_path='Data/'\n",
    "\n",
    "import json\n",
    "with open(parent_path+'fear_speech_data.json', encoding = 'utf-8') as fp:\n",
    "    fear_speech_data=json.load(fp)"
   ]
  },
  {
   "cell_type": "code",
   "execution_count": 26,
   "metadata": {},
   "outputs": [
    {
     "data": {
      "text/plain": [
       "{'message_text': '*प्रशासक समिति*✊🚩  ●●●●●●●●●●● ● ● ● 😎🚩 *आंतकवादी संगठनों का💣🔪 इस्लामिक नाम और उनका इस्लाम.....* *धर्म से जुड़ा हुआ अर्थ...* 🐖🐖🐖 *1.लश्करे तैयबा-फरिश्तो की सेना* *2.अल कायदा-अल्लाह का कायदा...* *3.जेश ए मोहम्द-मोहम्मद साहेब का दल...* *4.तहरिक ए तालिबान-पवित्र योद्धाओ का दल...* *5.हिजबुल मुजादिन-इस्लामी बलिदानियो का समूह...* *6.बोको हराम -पैगम्बर मुहम्मद की शिक्षा को फैलाने के लिए प्रतिबद्ध..* *सभी मुस्लमान अज्ञानि अल्लाह की बताई हुई रूहानी किताब क़ुरआन की बताई राह* *(पूरी दुनिया को इस्लाम बनाना)पर ही चल रहे है कोई ज्यादा बच👨\\u200d👨\\u200d👦* *पैदा करके तो कोई लव जिहाद👫 करके तो कोई काफ़िर(गेर मुसलमान)को मारकर..* *धरती पर आंतक🔫💣💣💣🔫फेला रहे है\\ufeff।।* 😡😡😡😎😡😡😡  *जय सनातन धर्म की*🚩🚩🚩  🙏🚩🇮🇳🔱🏹🐚🕉',\n",
       " 'translated_text': '* Administrator ✊ 🚩   Committee * ● ●●●●●●●●●● 🚩  😎  ● ● ● नाम 🔪  💣  * Islamic name of terrorist organizations and their meaning 🐖  🐖  🐖  in Islam… .. * Religion… * ... 1. * 1. Army of Lashkar-e-Taiba-Farishto * * 2. Al Qaeda-Qaeda of Allah ... * * 3. Team of Jesh-e-Mohammad-Mohammed Saheb ... * * 4. Tahrik-e-Taliban-Holy Warriors Party ... * * 5. Hijbul Mujadin-group of Islamic sacrifices ... * * 6. Boko Haram - Committed to spread the teachings of Prophet Muhammad .. * * All the Muslim ignorance told the Quran of Allah the 👨 👦   👨  spiritual book The path 👫  is going on * (making the whole world Islam), by creating 🔫  💣  💣  💣  🔫 😡 😡 😡 😡  😡   😎   😡    some 🚩 🚩  🙏 🇮 🔱 🐚 🕉   🏹   🇳   🚩   🚩   more children * * *, by creating some love jihad and by killing a kafir (Ger Muslim) .. * * Terror on Earth 💣💣💣🔫Fella is there. * 😡😡😡😎😡😡😡 * Jai of Sanatan Dharma * 🚩🚩🚩 🙏🚩🇮🇳🔱🏹🐚🕉  ',\n",
       " 'annotation_list': ['Fear speech', 'Fear speech', 'Normal'],\n",
       " 'propagation': [{'group_id': 9087,\n",
       "   'user_id': 229869,\n",
       "   'timestamp': 1538130086000},\n",
       "  {'group_id': 7, 'user_id': 215, 'timestamp': 1550186113000}]}"
      ]
     },
     "execution_count": 26,
     "metadata": {},
     "output_type": "execute_result"
    }
   ],
   "source": [
    "fear_speech_data['0']"
   ]
  },
  {
   "cell_type": "code",
   "execution_count": 27,
   "metadata": {},
   "outputs": [],
   "source": [
    "text_tuples=[]\n",
    "\n",
    "for key in fear_speech_data.keys():\n",
    "    element = fear_speech_data[key]\n",
    "    \n",
    "    count_fearspeech=element['annotation_list'].count('Fear speech')\n",
    "    count_normal=element['annotation_list'].count('Normal')\n",
    "    \n",
    "    if(count_fearspeech>count_normal):\n",
    "        one_fear_speech=1\n",
    "    else:\n",
    "        one_fear_speech=0\n",
    "    text_tuples.append([element['message_text'],element['translated_text'],one_fear_speech])\n",
    "    \n",
    "annotated_df = pd.DataFrame(text_tuples,columns=['message_text','translated','one_fear_speech'])\n"
   ]
  },
  {
   "cell_type": "code",
   "execution_count": 28,
   "metadata": {},
   "outputs": [
    {
     "data": {
      "text/plain": [
       "4782"
      ]
     },
     "execution_count": 28,
     "metadata": {},
     "output_type": "execute_result"
    }
   ],
   "source": [
    "len(annotated_df)"
   ]
  },
  {
   "cell_type": "code",
   "execution_count": 29,
   "metadata": {},
   "outputs": [],
   "source": [
    "lexicon = Empath()\n",
    "dict_map={0:'non fear speech',1:'fear speech'}\n",
    "\n",
    "def get_empath_categories(df,normalize): \n",
    "    tuples=[]\n",
    "    for index,row in tqdm(df.iterrows(),total=len(df)):\n",
    "        dict_lexicon=lexicon.analyze(row['translated'], normalize=normalize)\n",
    "        try:\n",
    "            temp=dict_lexicon.values()\n",
    "        except AttributeError:\n",
    "            dict_lexicon=lexicon.analyze(\"sample text\", normalize=normalize)\n",
    "        temp=list(dict_lexicon.values())+[index,dict_map[row['one_fear_speech']]]\n",
    "        tuples.append(temp)\n",
    "    df_empath=pd.DataFrame(tuples,columns=list(dict_lexicon.keys())+['org_index','label'])\n",
    "    \n",
    "    \n",
    "    print(len(df),len(df_empath))\n",
    "    df=df.reset_index(drop=True)\n",
    "    #df_with_empath=pd.concat([df,df_empath],axis=1)\n",
    "    return df_empath\n"
   ]
  },
  {
   "cell_type": "code",
   "execution_count": 30,
   "metadata": {},
   "outputs": [
    {
     "name": "stderr",
     "output_type": "stream",
     "text": [
      "100%|█████████████████████████████████████████████████████████████████████████████| 4782/4782 [00:40<00:00, 117.03it/s]\n"
     ]
    },
    {
     "name": "stdout",
     "output_type": "stream",
     "text": [
      "4782 4782\n"
     ]
    },
    {
     "data": {
      "text/html": [
       "<div>\n",
       "<style scoped>\n",
       "    .dataframe tbody tr th:only-of-type {\n",
       "        vertical-align: middle;\n",
       "    }\n",
       "\n",
       "    .dataframe tbody tr th {\n",
       "        vertical-align: top;\n",
       "    }\n",
       "\n",
       "    .dataframe thead th {\n",
       "        text-align: right;\n",
       "    }\n",
       "</style>\n",
       "<table border=\"1\" class=\"dataframe\">\n",
       "  <thead>\n",
       "    <tr style=\"text-align: right;\">\n",
       "      <th></th>\n",
       "      <th>label</th>\n",
       "      <th>category</th>\n",
       "      <th>normalized_value</th>\n",
       "    </tr>\n",
       "  </thead>\n",
       "  <tbody>\n",
       "    <tr>\n",
       "      <th>0</th>\n",
       "      <td>fear speech</td>\n",
       "      <td>help</td>\n",
       "      <td>0.000000</td>\n",
       "    </tr>\n",
       "    <tr>\n",
       "      <th>1</th>\n",
       "      <td>non fear speech</td>\n",
       "      <td>help</td>\n",
       "      <td>0.000000</td>\n",
       "    </tr>\n",
       "    <tr>\n",
       "      <th>2</th>\n",
       "      <td>fear speech</td>\n",
       "      <td>help</td>\n",
       "      <td>0.000000</td>\n",
       "    </tr>\n",
       "    <tr>\n",
       "      <th>3</th>\n",
       "      <td>non fear speech</td>\n",
       "      <td>help</td>\n",
       "      <td>0.000000</td>\n",
       "    </tr>\n",
       "    <tr>\n",
       "      <th>4</th>\n",
       "      <td>non fear speech</td>\n",
       "      <td>help</td>\n",
       "      <td>0.008787</td>\n",
       "    </tr>\n",
       "  </tbody>\n",
       "</table>\n",
       "</div>"
      ],
      "text/plain": [
       "             label category  normalized_value\n",
       "0      fear speech     help          0.000000\n",
       "1  non fear speech     help          0.000000\n",
       "2      fear speech     help          0.000000\n",
       "3  non fear speech     help          0.000000\n",
       "4  non fear speech     help          0.008787"
      ]
     },
     "execution_count": 30,
     "metadata": {},
     "output_type": "execute_result"
    }
   ],
   "source": [
    "annotated_df_empath=get_empath_categories(annotated_df,normalize=True)\n",
    "annotated_df_empath = pd.melt(annotated_df_empath,id_vars=\"label\",var_name=\"category\", value_name=\"normalized_value\")\n",
    "annotated_df_empath=annotated_df_empath[annotated_df_empath['category']!='org_index']\n",
    "annotated_df_empath.head()"
   ]
  },
  {
   "cell_type": "code",
   "execution_count": 31,
   "metadata": {},
   "outputs": [
    {
     "data": {
      "image/png": "[encoded data removed]",
      "text/plain": [
       "<Figure size 600x600 with 1 Axes>"
      ]
     },
     "metadata": {},
     "output_type": "display_data"
    }
   ],
   "source": [
    "categories=[\"hate\", \"crime\", \"aggression\", \"suffering\", \"fight\", \"war\", \"weapon\",\"negative_emotion\",\"giving\", \"achievement\", \"fun\"]\n",
    "\n",
    "matplotlib.rcParams['figure.figsize'] = (6,6)\n",
    "\n",
    "sns.set(context='paper',style='white',font_scale=1.5)\n",
    "\n",
    "temp=annotated_df_empath[annotated_df_empath['category'].isin(categories)]\n",
    "font = {\n",
    "    'weight' : 'normal',\n",
    "    'size'   : 11}\n",
    "\n",
    "sns.set(context='paper',style='white',font_scale=2.0)\n",
    "\n",
    "g = sns.barplot(x=\"category\", y=\"normalized_value\",hue=\"label\",order=categories,data=temp)\n",
    "#g=add_values(g,df_admin,15,order_list)\n",
    "#plt.ylabel('number of groups as admin')\n",
    "g.set_xticklabels(\n",
    "        g.get_xticklabels(), \n",
    "        rotation=45, \n",
    "        horizontalalignment='right',\n",
    "        fontweight='normal',\n",
    "        fontsize='medium'\n",
    "\n",
    "    )\n",
    "\n",
    "xlist_label=[]\n",
    "\n",
    "list_p_vals=[]\n",
    "\n",
    "for cat in categories:\n",
    "    temp=annotated_df_empath[annotated_df_empath['category']==cat]\n",
    "    treatment=np.array(temp[temp['label']=='fear speech'].normalized_value)\n",
    "    control=np.array(temp[temp['label']=='non fear speech'].normalized_value)\n",
    "    seed(2)\n",
    "    # generate two independent samples\n",
    "    # compare samples\n",
    "    stat, p = mannwhitneyu(treatment, control)\n",
    "    list_p_vals.append(p)\n",
    "    if(cat == 'negative_emotion'):\n",
    "        cat='neg_emo'\n",
    "    \n",
    "#     if(p<=0.00001):\n",
    "#         cat=cat+\" ****\"\n",
    "    if(p<=0.0001):\n",
    "        cat=cat+\" (***)\"\n",
    "    elif(p<=0.001):\n",
    "        cat=cat+\" (**)\"\n",
    "    elif(p<0.01):\n",
    "        cat=cat+\" (*)\"\n",
    "   \n",
    "        \n",
    "    xlist_label.append(cat)\n",
    "\n",
    "    \n",
    "    \n",
    "\n",
    "plt.axvline(7.5, linestyle='--',alpha=0.9, color='r',linewidth=1.5)\n",
    "plt.xticks(ticks=range(0,len(categories)),labels=xlist_label)\n",
    "plt.xlabel(\"\")\n",
    "plt.ylabel(\"normalized empath value\")\n",
    "plt.legend()\n",
    "plt.show()\n",
    "#plt.savefig('../Fear_speech_results/empath.pdf',bbox_inches='tight',dpi=400)"
   ]
  },
  {
   "cell_type": "code",
   "execution_count": 32,
   "metadata": {},
   "outputs": [],
   "source": [
    "from multipy.fwer import sidak\n",
    "significant_pvals = sidak(list_p_vals, alpha=0.05)"
   ]
  },
  {
   "cell_type": "code",
   "execution_count": 33,
   "metadata": {},
   "outputs": [
    {
     "name": "stdout",
     "output_type": "stream",
     "text": [
      "The category \"fun\" is not significant\n"
     ]
    }
   ],
   "source": [
    "#Correcting significance using sidak correction to take into consideration family wise error rate\n",
    "for i in range(len(significant_pvals)):\n",
    "    if(significant_pvals[i]==False):\n",
    "        print('The category \\\"'+categories[i]+'\\\" is not significant')"
   ]
  },
  {
   "cell_type": "code",
   "execution_count": 34,
   "metadata": {},
   "outputs": [
    {
     "name": "stderr",
     "output_type": "stream",
     "text": [
      "C:\\Users\\anubh\\AppData\\Local\\Temp\\ipykernel_3912\\259731340.py:12: TqdmDeprecationWarning: This function will be removed in tqdm==5.0.0\n",
      "Please use `tqdm.notebook.tqdm` instead of `tqdm.tqdm_notebook`\n",
      "  for index,row in tqdm_notebook(annotated_df[annotated_df['one_fear_speech']==1].iterrows(),total=len(annotated_df[annotated_df['one_fear_speech']==1])):\n"
     ]
    },
    {
     "data": {
      "application/vnd.jupyter.widget-view+json": {
       "model_id": "638741e0a4fc46f5848da6d490486c9a",
       "version_major": 2,
       "version_minor": 0
      },
      "text/plain": [
       "  0%|          | 0/1142 [00:00<?, ?it/s]"
      ]
     },
     "metadata": {},
     "output_type": "display_data"
    }
   ],
   "source": [
    "edges={}\n",
    "emoji_dict={}\n",
    "emoji_dict_count={}\n",
    "emoji_dict_reverse={}\n",
    "window=5\n",
    "\n",
    "\n",
    "count=0\n",
    "\n",
    "count_at_least_one=0\n",
    "\n",
    "for index,row in tqdm_notebook(annotated_df[annotated_df['one_fear_speech']==1].iterrows(),total=len(annotated_df[annotated_df['one_fear_speech']==1])):\n",
    "    emojis_with_index=extract_emojis_index(row['message_text'])\n",
    "    \n",
    "    if(len(emojis_with_index)!=0):\n",
    "        count_at_least_one+=1\n",
    "    \n",
    "    for ele in emojis_with_index:\n",
    "        try:\n",
    "            emoji_dict_count[ele[1]]+=1\n",
    "        except KeyError:\n",
    "            emoji_dict_count[ele[1]]=1\n",
    "    \n",
    "    \n",
    "    for i in range(len(emojis_with_index)):\n",
    "        ele1=emojis_with_index[i]\n",
    "        for j in range(i,len(emojis_with_index)):\n",
    "            ele2=emojis_with_index[j]\n",
    "            \n",
    "            try:\n",
    "                temp1=emoji_dict[ele1[1]]\n",
    "            except:\n",
    "                count+=1\n",
    "                emoji_dict[ele1[1]]=count\n",
    "                emoji_dict_reverse[count]=ele1[1]\n",
    "                temp1=count\n",
    "            \n",
    "            try:\n",
    "                temp2=emoji_dict[ele2[1]]\n",
    "            except:\n",
    "                count+=1\n",
    "                emoji_dict[ele2[1]]=count\n",
    "                emoji_dict_reverse[count]=ele2[1]\n",
    "                temp2=count\n",
    "            \n",
    "            if(temp1<temp2):\n",
    "                key_adj=str(temp1)+'--'+str(temp2)\n",
    "            elif(temp2<temp1):\n",
    "                key_adj=str(temp2)+'--'+str(temp1)\n",
    "            else:  \n",
    "                continue\n",
    "            try:\n",
    "#                 edges[key_adj][0]+=abs(ele1[0]-ele2[0])\n",
    "#                 edges[key_adj][1]+=1\n",
    "                if(abs(ele1[0]-ele2[0]) <window):\n",
    "                    edges[key_adj]+=1\n",
    "\n",
    "\n",
    "            except KeyError:\n",
    "#                 edges[key_adj]=[abs(ele1[0]-ele2[0]),1]\n",
    "                 if(abs(ele1[0]-ele2[0])<window):\n",
    "                    \n",
    "                    edges[key_adj]=1\n",
    "            "
   ]
  },
  {
   "cell_type": "code",
   "execution_count": 35,
   "metadata": {},
   "outputs": [
    {
     "name": "stdout",
     "output_type": "stream",
     "text": [
      "Propotion of messages with atleast one emoji out of total:- 0.5192644483362522\n"
     ]
    }
   ],
   "source": [
    "print(\"Propotion of messages with atleast one emoji out of total:-\",count_at_least_one/len(annotated_df[annotated_df['one_fear_speech']==1]))"
   ]
  },
  {
   "cell_type": "code",
   "execution_count": 36,
   "metadata": {},
   "outputs": [],
   "source": [
    "edge_list=[]\n",
    "\n",
    "for key in edges.keys():\n",
    "    ele1=int(key.split('--')[0])\n",
    "    ele2=int(key.split('--')[1])\n",
    "    if(emoji_dict_count[emoji_dict_reverse[ele1]]<10 or emoji_dict_count[emoji_dict_reverse[ele2]]<10 or emoji_dict_reverse[ele1] in emoji_stop or emoji_dict_reverse[ele2] in emoji_stop):\n",
    "        continue\n",
    "        \n",
    "    avg_distance= edges[key]/(emoji_dict_count[emoji_dict_reverse[ele1]]*emoji_dict_count[emoji_dict_reverse[ele2]])\n",
    "    edge_list.append([ele1,ele2,avg_distance])"
   ]
  },
  {
   "cell_type": "code",
   "execution_count": 37,
   "metadata": {},
   "outputs": [],
   "source": [
    "import json\n",
    "with open(\"Networks/emoji_dict.json\",'w', encoding='utf-8') as fp:\n",
    "    json.dump(emoji_dict, fp,ensure_ascii=False)"
   ]
  },
  {
   "cell_type": "code",
   "execution_count": 38,
   "metadata": {},
   "outputs": [],
   "source": [
    "G = nx.Graph()\n",
    "G.add_weighted_edges_from(edge_list)"
   ]
  },
  {
   "cell_type": "code",
   "execution_count": 39,
   "metadata": {},
   "outputs": [],
   "source": [
    "nx.write_weighted_edgelist(G, \"Networks/network_emoji_98.edgelist.gz\")"
   ]
  },
  {
   "cell_type": "markdown",
   "metadata": {},
   "source": [
    "### Load precomputed emoji network"
   ]
  },
  {
   "cell_type": "code",
   "execution_count": 40,
   "metadata": {},
   "outputs": [],
   "source": [
    "import json\n",
    "with open(\"Networks/emoji_dict.json\", encoding ='utf-8') as fp:\n",
    "    emoji_dict=json.load(fp)\n",
    "emoji_dict_reverse = {v: k for k, v in emoji_dict.items()}\n",
    "\n",
    "G=nx.read_weighted_edgelist(\"Networks/network_emoji_98.edgelist.gz\")\n",
    "    "
   ]
  },
  {
   "cell_type": "code",
   "execution_count": 41,
   "metadata": {},
   "outputs": [],
   "source": [
    "import community.community_louvain as community_louvain\n",
    "partion = community_louvain.best_partition(G)"
   ]
  },
  {
   "cell_type": "code",
   "execution_count": 42,
   "metadata": {},
   "outputs": [],
   "source": [
    "partition_emoji={}\n",
    "for key in partion:\n",
    "    emoji=emoji_dict_reverse[int(key)]\n",
    "    try:\n",
    "        partition_emoji[partion[key]].append(emoji)\n",
    "    except KeyError:\n",
    "        partition_emoji[partion[key]]=[emoji]"
   ]
  },
  {
   "cell_type": "code",
   "execution_count": 43,
   "metadata": {},
   "outputs": [
    {
     "name": "stdout",
     "output_type": "stream",
     "text": [
      "['✊', '🚩', '🏹', '👊', '⛳', '🙏', '🤝', '🔱', '🕉', '🌞', '🍁', '🌷', '😊', '🐚', '🔥', '🌹', '🗣', '❗', '〰', '✅', '👆', '😢', '🌼', '💐', '🐆', '👍', '⏺']\n",
      "['💪', '✔', '😭', '😰', '👏', '😬', '📱', '📲']\n",
      "['👉', '👿', '😎', '👺', '📗', '✍', '❌', '📌', '⭕', '🐖', '🐷', '🕋', '😈', '❓', '🔰', '🌀']\n",
      "['😡', '🛑', '✋', '⚫', '🔵', '⬇']\n",
      "['⚔', '🗡', '🤺', '🦁', '💥', '💣', '🔫', '🐅', '☪']\n",
      "['😱', '🤔', '👇', '😠', '😏', '👈', '📖', '☹', '😳', '😔', '🌐', '😤', '🔺', '🎀', '➡']\n",
      "['📚', '✒', '🖌']\n",
      "['♂', '🤷', '👹', '🧐', '🤫', '💁', '😞', '♀', '🧝', '🤨', '⁉']\n",
      "['😀', '😁', '😂']\n"
     ]
    }
   ],
   "source": [
    "for key in partition_emoji:\n",
    "    print(partition_emoji[key])"
   ]
  },
  {
   "cell_type": "markdown",
   "metadata": {},
   "source": [
    "#### Topic analysis\n",
    "\n"
   ]
  },
  {
   "cell_type": "code",
   "execution_count": 44,
   "metadata": {},
   "outputs": [],
   "source": [
    "from gensim.models.ldamodel import LdaModel\n",
    "import gensim\n",
    "from gensim.models import CoherenceModel\n",
    "\n",
    "\n",
    "def handler_funtion(data):\n",
    "    processed_words=list(data['tokenized'])\n",
    "    dictionary = gensim.corpora.Dictionary(processed_words)\n",
    "    dictionary.filter_extremes(no_below=3, no_above=0.5, keep_n=50000)\n",
    "    list_docs=[]\n",
    "    for index,row in tqdm_notebook(data.iterrows(),total=len(data)):\n",
    "        list_docs.append(dictionary.doc2bow(row['tokenized']))\n",
    "    idxtoken={k:v for v,k in dictionary.token2id.items()}\n",
    "    return dictionary,idxtoken,list_docs\n",
    "\n"
   ]
  },
  {
   "cell_type": "code",
   "execution_count": 45,
   "metadata": {},
   "outputs": [
    {
     "name": "stderr",
     "output_type": "stream",
     "text": [
      "C:\\Users\\anubh\\AppData\\Local\\Temp\\ipykernel_3912\\3305617249.py:7: TqdmDeprecationWarning: This function will be removed in tqdm==5.0.0\n",
      "Please use `tqdm.notebook.tqdm` instead of `tqdm.tqdm_notebook`\n",
      "  token_list=[preprocess_sent(ele,params) for ele in tqdm_notebook(list(time_filtered_data['message_text']),total=len(time_filtered_data))]\n"
     ]
    },
    {
     "data": {
      "application/vnd.jupyter.widget-view+json": {
       "model_id": "4cf000c248e949809d90fec343f04952",
       "version_major": 2,
       "version_minor": 0
      },
      "text/plain": [
       "  0%|          | 0/4782 [00:00<?, ?it/s]"
      ]
     },
     "metadata": {},
     "output_type": "display_data"
    },
    {
     "name": "stderr",
     "output_type": "stream",
     "text": [
      "C:\\Users\\anubh\\AppData\\Local\\Temp\\ipykernel_3912\\224590672.py:11: TqdmDeprecationWarning: This function will be removed in tqdm==5.0.0\n",
      "Please use `tqdm.notebook.tqdm` instead of `tqdm.tqdm_notebook`\n",
      "  for index,row in tqdm_notebook(data.iterrows(),total=len(data)):\n"
     ]
    },
    {
     "data": {
      "application/vnd.jupyter.widget-view+json": {
       "model_id": "329cd56e64944317a7d3a877b30e4f15",
       "version_major": 2,
       "version_minor": 0
      },
      "text/plain": [
       "  0%|          | 0/4782 [00:00<?, ?it/s]"
      ]
     },
     "metadata": {},
     "output_type": "display_data"
    },
    {
     "name": "stdout",
     "output_type": "stream",
     "text": [
      "Coherence score 0.4840680406388257\n"
     ]
    }
   ],
   "source": [
    "from gensim.test.utils import common_corpus, common_dictionary\n",
    "from gensim.models.coherencemodel import CoherenceModel\n",
    "from gensim.models.ldamodel import LdaModel\n",
    "\n",
    "time_filtered_data=annotated_df\n",
    "params={'remove_numbers':True,'remove_emoji':False,'remove_stop_words':True,'tokenize':True}\n",
    "token_list=[preprocess_sent(ele,params) for ele in tqdm_notebook(list(time_filtered_data['message_text']),total=len(time_filtered_data))]    \n",
    "time_filtered_data['tokenized']=token_list\n",
    "numtopics=10\n",
    "dictionary,idxtoken,list_docs= handler_funtion(time_filtered_data)\n",
    "model = LdaModel(list_docs, numtopics, dictionary,random_state=2020,chunksize=100,passes=20)\n",
    "cm = CoherenceModel(model=model, texts=token_list, coherence='c_v')\n",
    "coherence = cm.get_coherence()\n",
    "print(\"Coherence score\",coherence)"
   ]
  },
  {
   "cell_type": "code",
   "execution_count": 46,
   "metadata": {},
   "outputs": [
    {
     "data": {
      "text/plain": [
       "[(0,\n",
       "  '0.010*\"बात\" + 0.008*\"अगर\" + 0.008*\"मैं\" + 0.007*\"लोग\" + 0.007*\"मुसलमान\" + 0.006*\"आज\" + 0.006*\"दिन\" + 0.006*\"सब\" + 0.005*\"जाता\" + 0.005*\"होगा\"'),\n",
       " (1,\n",
       "  '0.026*\"मुस्लिम\" + 0.021*\"देश\" + 0.019*\"हिन्दू\" + 0.016*\"भारत\" + 0.012*\"मुसलमानों\" + 0.008*\"हिंदुओं\" + 0.008*\"हिंदू\" + 0.007*\"मुसलमान\" + 0.006*\"रही\" + 0.005*\"सरकार\"'),\n",
       " (2,\n",
       "  '0.043*\"अल्लाह\" + 0.018*\"कुरान\" + 0.012*\"मुहम्मद\" + 0.011*\"इस्लाम\" + 0.010*\"👇\" + 0.010*\"तुम\" + 0.008*\"ए\" + 0.008*\"करो\" + 0.008*\"रसूल\" + 0.006*\"🌹\"'),\n",
       " (3,\n",
       "  '0.019*\"भारत\" + 0.009*\"राजा\" + 0.008*\"इतिहास\" + 0.008*\"समय\" + 0.006*\"बलात्कार\" + 0.006*\"उन्होंने\" + 0.006*\"रूप\" + 0.005*\"तथा\" + 0.005*\"युद्ध\" + 0.005*\"भारतीय\"'),\n",
       " (4,\n",
       "  '0.035*\"साईं\" + 0.020*\"राम\" + 0.019*\"साई\" + 0.017*\"बाबा\" + 0.015*\"हिन्दू\" + 0.015*\"दलित\" + 0.014*\"बकरे\" + 0.012*\"मेरे\" + 0.011*\"दलितों\" + 0.010*\"पास\"'),\n",
       " (5,\n",
       "  '0.050*\"👤\" + 0.016*\"〰\" + 0.010*\"❓\" + 0.008*\"muslim\" + 0.008*\"india\" + 0.008*\"🇲\" + 0.007*\"allah\" + 0.007*\"muslims\" + 0.007*\"🇷\" + 0.006*\"living\"'),\n",
       " (6,\n",
       "  '0.033*\"धर्म\" + 0.020*\"हिन्दू\" + 0.016*\"मंदिर\" + 0.009*\"नाम\" + 0.008*\"जाता\" + 0.008*\"भगवान\" + 0.008*\"राम\" + 0.007*\"श्री\" + 0.007*\"सनातन\" + 0.006*\"मस्जिद\"'),\n",
       " (7,\n",
       "  '0.052*\"🚩\" + 0.023*\"🙏\" + 0.022*\"😡\" + 0.018*\"🇮\" + 0.016*\"🇳\" + 0.014*\"👇\" + 0.013*\"🏻\" + 0.013*\"👉\" + 0.012*\"📚\" + 0.011*\"जय\"'),\n",
       " (8,\n",
       "  '0.024*\"कांग्रेस\" + 0.017*\"देश\" + 0.016*\"गांधी\" + 0.015*\"मोदी\" + 0.013*\"हिन्दू\" + 0.010*\"भारत\" + 0.010*\"भाई\" + 0.009*\"राम\" + 0.009*\"हिन्दुओ\" + 0.008*\"मुस्लिम\"'),\n",
       " (9,\n",
       "  '0.031*\"पाकिस्तान\" + 0.020*\"भारत\" + 0.016*\"आतंकी\" + 0.016*\"कश्मीर\" + 0.014*\"सरकार\" + 0.013*\"मोदी\" + 0.011*\"हमले\" + 0.011*\"आतंकवादी\" + 0.010*\"संगठन\" + 0.010*\"आतंकवाद\"')]"
      ]
     },
     "execution_count": 46,
     "metadata": {},
     "output_type": "execute_result"
    }
   ],
   "source": [
    "model.print_topics()"
   ]
  },
  {
   "cell_type": "code",
   "execution_count": null,
   "metadata": {},
   "outputs": [],
   "source": []
  }
 ],
 "metadata": {
  "kernelspec": {
   "display_name": "Python 3 (ipykernel)",
   "language": "python",
   "name": "python3"
  },
  "language_info": {
   "codemirror_mode": {
    "name": "ipython",
    "version": 3
   },
   "file_extension": ".py",
   "mimetype": "text/x-python",
   "name": "python",
   "nbconvert_exporter": "python",
   "pygments_lexer": "ipython3",
   "version": "3.10.9"
  }
 },
 "nbformat": 4,
 "nbformat_minor": 2
}
